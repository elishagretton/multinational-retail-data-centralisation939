{
 "cells": [
  {
   "cell_type": "code",
   "execution_count": 1,
   "metadata": {},
   "outputs": [],
   "source": [
    "from database_utils import DatabaseConnector\n",
    "from data_cleaning import DataCleaning\n",
    "from data_extraction import DataExtractor"
   ]
  },
  {
   "cell_type": "code",
   "execution_count": null,
   "metadata": {},
   "outputs": [],
   "source": [
    "# Uploading cleaned sales_data to sql table dim_users in sales_data sql\n",
    "\n",
    "example = DataCleaning('legacy_users')\n",
    "clean_dataframe = example.clean_user_data()\n",
    "\n",
    "instance = DatabaseConnector('sales_data_creds.yaml')\n",
    "instance.upload_to_db(clean_dataframe, 'dim_users')"
   ]
  },
  {
   "cell_type": "code",
   "execution_count": null,
   "metadata": {},
   "outputs": [],
   "source": [
    "# Uploading pdf to extractor\n",
    "\n",
    "extractor = DataExtractor()\n",
    "pdf_data = extractor.retrieve_pdf_data('card_details.pdf')\n",
    "pdf_data.head()"
   ]
  },
  {
   "cell_type": "code",
   "execution_count": null,
   "metadata": {},
   "outputs": [],
   "source": [
    "pdf_data.info()\n"
   ]
  },
  {
   "cell_type": "code",
   "execution_count": null,
   "metadata": {},
   "outputs": [],
   "source": [
    "# Uploading card details to sales_data sql\n",
    "example = DataCleaning('card_details.pdf')\n",
    "pdf_data = example.clean_card_data()\n",
    "\n",
    "instance = DatabaseConnector('sales_data_creds.yaml')\n",
    "instance.upload_to_db(pdf_data, 'dim_card_details')"
   ]
  },
  {
   "cell_type": "code",
   "execution_count": null,
   "metadata": {},
   "outputs": [],
   "source": [
    "# Task 5, Step 3: Retrieve end points\n",
    "header = {'x-api-key' : 'yFBQbwXe9J3sd6zWVAMrK6lcxxr0q1lr2PT6DDMX'}\n",
    "\n",
    "number_of_stores_endpoint = 'https://aqj7u5id95.execute-api.eu-west-1.amazonaws.com/prod/number_stores'\n",
    "extractor = DataExtractor()\n",
    "number_of_stores = extractor.list_number_of_stores(number_of_stores_endpoint,header)\n",
    "\n",
    "store_endpoint = 'https://aqj7u5id95.execute-api.eu-west-1.amazonaws.com/prod/store_details/'\n",
    "\n",
    "api_data = extractor.retrieve_stores_data(store_endpoint, number_of_stores, header)"
   ]
  },
  {
   "cell_type": "code",
   "execution_count": null,
   "metadata": {},
   "outputs": [],
   "source": [
    "# Task 5, Step 4: Clean data\n",
    "example = DataCleaning(api_data)\n",
    "cleaned_df = example.called_clean_store_data()\n",
    "print(cleaned_df.head())\n",
    "print(cleaned_df.info())"
   ]
  },
  {
   "cell_type": "code",
   "execution_count": null,
   "metadata": {},
   "outputs": [],
   "source": [
    "# Task 5, Step 5: Upload df using upload_to_db to dim_store_details\n",
    "instance = DatabaseConnector(file_path='sales_creds.yaml')\n",
    "instance.upload_to_db(cleaned_df,'dim_store_details')\n",
    "\n"
   ]
  },
  {
   "cell_type": "code",
   "execution_count": null,
   "metadata": {},
   "outputs": [],
   "source": [
    "# Task 6, Step 1: Extract data from s3 bucket into pd dataframe\n",
    "products_df = DataExtractor().extract_from_s3('s3://data-handling-public/products.csv')\n",
    "print(products_df.head())"
   ]
  },
  {
   "cell_type": "code",
   "execution_count": null,
   "metadata": {},
   "outputs": [],
   "source": [
    "products_df['weight'].unique()"
   ]
  },
  {
   "cell_type": "code",
   "execution_count": null,
   "metadata": {},
   "outputs": [],
   "source": [
    "# Task 6, Step 3: Upload products details to sales_data sql\n",
    "\n",
    "# Extract data from s3\n",
    "products_df = DataExtractor().extract_from_s3('s3://data-handling-public/products.csv')\n",
    "\n",
    "# Clean data\n",
    "cleaned_products_df = DataCleaning(products_df).clean_products_data(products_df)\n",
    "\n",
    "# Connect to sales_data and upload to sales_data db\n",
    "instance = DatabaseConnector('sales_data_creds.yaml')\n",
    "instance.upload_to_db(cleaned_products_df, 'dim_products')"
   ]
  },
  {
   "cell_type": "code",
   "execution_count": 2,
   "metadata": {},
   "outputs": [
    {
     "data": {
      "text/plain": [
       "['legacy_store_details', 'legacy_users', 'orders_table']"
      ]
     },
     "execution_count": 2,
     "metadata": {},
     "output_type": "execute_result"
    }
   ],
   "source": [
    "# Task 7, Step 1\n",
    "connector = DatabaseConnector('db_creds.yaml')\n",
    "connector.list_db_tables()"
   ]
  },
  {
   "cell_type": "code",
   "execution_count": 3,
   "metadata": {},
   "outputs": [],
   "source": [
    "# Task 7, Step 2\n",
    "extractor = DataExtractor()\n",
    "orders_table_data = extractor.read_rds_table('orders_table')\n"
   ]
  },
  {
   "cell_type": "code",
   "execution_count": 4,
   "metadata": {},
   "outputs": [
    {
     "data": {
      "text/html": [
       "<div>\n",
       "<style scoped>\n",
       "    .dataframe tbody tr th:only-of-type {\n",
       "        vertical-align: middle;\n",
       "    }\n",
       "\n",
       "    .dataframe tbody tr th {\n",
       "        vertical-align: top;\n",
       "    }\n",
       "\n",
       "    .dataframe thead th {\n",
       "        text-align: right;\n",
       "    }\n",
       "</style>\n",
       "<table border=\"1\" class=\"dataframe\">\n",
       "  <thead>\n",
       "    <tr style=\"text-align: right;\">\n",
       "      <th></th>\n",
       "      <th>level_0</th>\n",
       "      <th>date_uuid</th>\n",
       "      <th>first_name</th>\n",
       "      <th>last_name</th>\n",
       "      <th>user_uuid</th>\n",
       "      <th>card_number</th>\n",
       "      <th>store_code</th>\n",
       "      <th>product_code</th>\n",
       "      <th>1</th>\n",
       "      <th>product_quantity</th>\n",
       "    </tr>\n",
       "    <tr>\n",
       "      <th>index</th>\n",
       "      <th></th>\n",
       "      <th></th>\n",
       "      <th></th>\n",
       "      <th></th>\n",
       "      <th></th>\n",
       "      <th></th>\n",
       "      <th></th>\n",
       "      <th></th>\n",
       "      <th></th>\n",
       "      <th></th>\n",
       "    </tr>\n",
       "  </thead>\n",
       "  <tbody>\n",
       "    <tr>\n",
       "      <th>0</th>\n",
       "      <td>0</td>\n",
       "      <td>9476f17e-5d6a-4117-874d-9cdb38ca1fa6</td>\n",
       "      <td>None</td>\n",
       "      <td>None</td>\n",
       "      <td>93caf182-e4e9-4c6e-bebb-60a1a9dcf9b8</td>\n",
       "      <td>30060773296197</td>\n",
       "      <td>BL-8387506C</td>\n",
       "      <td>R7-3126933h</td>\n",
       "      <td>NaN</td>\n",
       "      <td>3</td>\n",
       "    </tr>\n",
       "    <tr>\n",
       "      <th>1</th>\n",
       "      <td>1</td>\n",
       "      <td>0423a395-a04d-4e4a-bd0f-d237cbd5a295</td>\n",
       "      <td>None</td>\n",
       "      <td>None</td>\n",
       "      <td>8fe96c3a-d62d-4eb5-b313-cf12d9126a49</td>\n",
       "      <td>349624180933183</td>\n",
       "      <td>WEB-1388012W</td>\n",
       "      <td>C2-7287916l</td>\n",
       "      <td>NaN</td>\n",
       "      <td>2</td>\n",
       "    </tr>\n",
       "    <tr>\n",
       "      <th>2</th>\n",
       "      <td>2</td>\n",
       "      <td>65187294-bb16-4519-adc0-787bbe423970</td>\n",
       "      <td>None</td>\n",
       "      <td>None</td>\n",
       "      <td>fc461df4-b919-48b2-909e-55c95a03fe6b</td>\n",
       "      <td>3529023891650490</td>\n",
       "      <td>CH-01D85C8D</td>\n",
       "      <td>S7-1175877v</td>\n",
       "      <td>NaN</td>\n",
       "      <td>2</td>\n",
       "    </tr>\n",
       "    <tr>\n",
       "      <th>3</th>\n",
       "      <td>3</td>\n",
       "      <td>579e21f7-13cb-436b-83ad-33687a4eb337</td>\n",
       "      <td>None</td>\n",
       "      <td>None</td>\n",
       "      <td>6104719f-ef14-4b09-bf04-fb0c4620acb0</td>\n",
       "      <td>213142929492281</td>\n",
       "      <td>CL-C183BE4B</td>\n",
       "      <td>D8-8421505n</td>\n",
       "      <td>NaN</td>\n",
       "      <td>2</td>\n",
       "    </tr>\n",
       "    <tr>\n",
       "      <th>4</th>\n",
       "      <td>4</td>\n",
       "      <td>00ab86c3-2039-4674-b9c1-adbcbbf525bd</td>\n",
       "      <td>None</td>\n",
       "      <td>None</td>\n",
       "      <td>9523a6d3-b2dd-4670-a51a-36aebc89f579</td>\n",
       "      <td>502067329974</td>\n",
       "      <td>SO-B5B9CB3B</td>\n",
       "      <td>B6-2596063a</td>\n",
       "      <td>NaN</td>\n",
       "      <td>2</td>\n",
       "    </tr>\n",
       "    <tr>\n",
       "      <th>...</th>\n",
       "      <td>...</td>\n",
       "      <td>...</td>\n",
       "      <td>...</td>\n",
       "      <td>...</td>\n",
       "      <td>...</td>\n",
       "      <td>...</td>\n",
       "      <td>...</td>\n",
       "      <td>...</td>\n",
       "      <td>...</td>\n",
       "      <td>...</td>\n",
       "    </tr>\n",
       "    <tr>\n",
       "      <th>110548</th>\n",
       "      <td>110549</td>\n",
       "      <td>f0e8fff6-9998-4661-954b-0e258e09d33c</td>\n",
       "      <td>None</td>\n",
       "      <td>None</td>\n",
       "      <td>95c74b0a-d495-4359-b1c0-e2da511e8403</td>\n",
       "      <td>575421945446</td>\n",
       "      <td>KA-FA7ED3B8</td>\n",
       "      <td>C9-6827622o</td>\n",
       "      <td>NaN</td>\n",
       "      <td>4</td>\n",
       "    </tr>\n",
       "    <tr>\n",
       "      <th>82164</th>\n",
       "      <td>82164</td>\n",
       "      <td>1c80940a-d186-4ba9-9daa-8abd1aceae32</td>\n",
       "      <td>None</td>\n",
       "      <td>None</td>\n",
       "      <td>5d6fa6fe-e583-4baf-8bbb-d1dd6e2b551f</td>\n",
       "      <td>4971858637664481</td>\n",
       "      <td>WA-A41DA979</td>\n",
       "      <td>I0-1146408B</td>\n",
       "      <td>NaN</td>\n",
       "      <td>1</td>\n",
       "    </tr>\n",
       "    <tr>\n",
       "      <th>97599</th>\n",
       "      <td>97599</td>\n",
       "      <td>58598aca-049c-418e-8e39-46327634a7f1</td>\n",
       "      <td>Sharon</td>\n",
       "      <td>Miller</td>\n",
       "      <td>48b7f1fc-db13-4611-ad8e-3dac0b759488</td>\n",
       "      <td>4971858637664481</td>\n",
       "      <td>WEB-1388012W</td>\n",
       "      <td>A4-5443400b</td>\n",
       "      <td>NaN</td>\n",
       "      <td>4</td>\n",
       "    </tr>\n",
       "    <tr>\n",
       "      <th>106591</th>\n",
       "      <td>106591</td>\n",
       "      <td>3a76f661-0707-4fbc-9862-f21d3249f581</td>\n",
       "      <td>None</td>\n",
       "      <td>None</td>\n",
       "      <td>51c0b538-7ded-4697-8e84-9f7aa13f9112</td>\n",
       "      <td>4971858637664481</td>\n",
       "      <td>SO-6D328417</td>\n",
       "      <td>E9-2782979e</td>\n",
       "      <td>NaN</td>\n",
       "      <td>4</td>\n",
       "    </tr>\n",
       "    <tr>\n",
       "      <th>118804</th>\n",
       "      <td>118806</td>\n",
       "      <td>98fdc8b3-f619-4471-86b4-f44c26880166</td>\n",
       "      <td>None</td>\n",
       "      <td>None</td>\n",
       "      <td>e74907ca-1a4a-476c-a3ca-6b898b0964c2</td>\n",
       "      <td>4971858637664481</td>\n",
       "      <td>SO-6D328417</td>\n",
       "      <td>m0-0281207X</td>\n",
       "      <td>NaN</td>\n",
       "      <td>3</td>\n",
       "    </tr>\n",
       "  </tbody>\n",
       "</table>\n",
       "<p>120123 rows × 10 columns</p>\n",
       "</div>"
      ],
      "text/plain": [
       "        level_0                             date_uuid first_name last_name  \\\n",
       "index                                                                        \n",
       "0             0  9476f17e-5d6a-4117-874d-9cdb38ca1fa6       None      None   \n",
       "1             1  0423a395-a04d-4e4a-bd0f-d237cbd5a295       None      None   \n",
       "2             2  65187294-bb16-4519-adc0-787bbe423970       None      None   \n",
       "3             3  579e21f7-13cb-436b-83ad-33687a4eb337       None      None   \n",
       "4             4  00ab86c3-2039-4674-b9c1-adbcbbf525bd       None      None   \n",
       "...         ...                                   ...        ...       ...   \n",
       "110548   110549  f0e8fff6-9998-4661-954b-0e258e09d33c       None      None   \n",
       "82164     82164  1c80940a-d186-4ba9-9daa-8abd1aceae32       None      None   \n",
       "97599     97599  58598aca-049c-418e-8e39-46327634a7f1     Sharon    Miller   \n",
       "106591   106591  3a76f661-0707-4fbc-9862-f21d3249f581       None      None   \n",
       "118804   118806  98fdc8b3-f619-4471-86b4-f44c26880166       None      None   \n",
       "\n",
       "                                   user_uuid       card_number    store_code  \\\n",
       "index                                                                          \n",
       "0       93caf182-e4e9-4c6e-bebb-60a1a9dcf9b8    30060773296197   BL-8387506C   \n",
       "1       8fe96c3a-d62d-4eb5-b313-cf12d9126a49   349624180933183  WEB-1388012W   \n",
       "2       fc461df4-b919-48b2-909e-55c95a03fe6b  3529023891650490   CH-01D85C8D   \n",
       "3       6104719f-ef14-4b09-bf04-fb0c4620acb0   213142929492281   CL-C183BE4B   \n",
       "4       9523a6d3-b2dd-4670-a51a-36aebc89f579      502067329974   SO-B5B9CB3B   \n",
       "...                                      ...               ...           ...   \n",
       "110548  95c74b0a-d495-4359-b1c0-e2da511e8403      575421945446   KA-FA7ED3B8   \n",
       "82164   5d6fa6fe-e583-4baf-8bbb-d1dd6e2b551f  4971858637664481   WA-A41DA979   \n",
       "97599   48b7f1fc-db13-4611-ad8e-3dac0b759488  4971858637664481  WEB-1388012W   \n",
       "106591  51c0b538-7ded-4697-8e84-9f7aa13f9112  4971858637664481   SO-6D328417   \n",
       "118804  e74907ca-1a4a-476c-a3ca-6b898b0964c2  4971858637664481   SO-6D328417   \n",
       "\n",
       "       product_code   1  product_quantity  \n",
       "index                                      \n",
       "0       R7-3126933h NaN                 3  \n",
       "1       C2-7287916l NaN                 2  \n",
       "2       S7-1175877v NaN                 2  \n",
       "3       D8-8421505n NaN                 2  \n",
       "4       B6-2596063a NaN                 2  \n",
       "...             ...  ..               ...  \n",
       "110548  C9-6827622o NaN                 4  \n",
       "82164   I0-1146408B NaN                 1  \n",
       "97599   A4-5443400b NaN                 4  \n",
       "106591  E9-2782979e NaN                 4  \n",
       "118804  m0-0281207X NaN                 3  \n",
       "\n",
       "[120123 rows x 10 columns]"
      ]
     },
     "execution_count": 4,
     "metadata": {},
     "output_type": "execute_result"
    }
   ],
   "source": [
    "orders_table_data"
   ]
  },
  {
   "cell_type": "code",
   "execution_count": 5,
   "metadata": {},
   "outputs": [],
   "source": [
    "cleaned_orders_data = DataCleaning(orders_table_data).clean_orders_data(orders_table_data)"
   ]
  },
  {
   "cell_type": "code",
   "execution_count": 6,
   "metadata": {},
   "outputs": [
    {
     "name": "stdout",
     "output_type": "stream",
     "text": [
      "<class 'pandas.core.frame.DataFrame'>\n",
      "Index: 120123 entries, 0 to 118804\n",
      "Data columns (total 6 columns):\n",
      " #   Column            Non-Null Count   Dtype \n",
      "---  ------            --------------   ----- \n",
      " 0   date_uuid         120123 non-null  string\n",
      " 1   user_uuid         120123 non-null  string\n",
      " 2   card_number       120123 non-null  int64 \n",
      " 3   store_code        120123 non-null  string\n",
      " 4   product_code      120123 non-null  string\n",
      " 5   product_quantity  120123 non-null  int8  \n",
      "dtypes: int64(1), int8(1), string(4)\n",
      "memory usage: 5.6 MB\n"
     ]
    }
   ],
   "source": [
    "cleaned_orders_data.info()"
   ]
  },
  {
   "cell_type": "code",
   "execution_count": 7,
   "metadata": {},
   "outputs": [
    {
     "data": {
      "text/plain": [
       "123"
      ]
     },
     "execution_count": 7,
     "metadata": {},
     "output_type": "execute_result"
    }
   ],
   "source": [
    "# Task 7, Step 4\n",
    "connector = DatabaseConnector('sales_data_creds.yaml')\n",
    "connector.upload_to_db(cleaned_orders_data, 'orders_table')"
   ]
  },
  {
   "cell_type": "code",
   "execution_count": 2,
   "metadata": {},
   "outputs": [
    {
     "data": {
      "text/html": [
       "<div>\n",
       "<style scoped>\n",
       "    .dataframe tbody tr th:only-of-type {\n",
       "        vertical-align: middle;\n",
       "    }\n",
       "\n",
       "    .dataframe tbody tr th {\n",
       "        vertical-align: top;\n",
       "    }\n",
       "\n",
       "    .dataframe thead th {\n",
       "        text-align: right;\n",
       "    }\n",
       "</style>\n",
       "<table border=\"1\" class=\"dataframe\">\n",
       "  <thead>\n",
       "    <tr style=\"text-align: right;\">\n",
       "      <th></th>\n",
       "      <th>timestamp</th>\n",
       "      <th>month</th>\n",
       "      <th>year</th>\n",
       "      <th>day</th>\n",
       "      <th>time_period</th>\n",
       "      <th>date_uuid</th>\n",
       "    </tr>\n",
       "  </thead>\n",
       "  <tbody>\n",
       "    <tr>\n",
       "      <th>0</th>\n",
       "      <td>22:00:06</td>\n",
       "      <td>9</td>\n",
       "      <td>2012</td>\n",
       "      <td>19</td>\n",
       "      <td>Evening</td>\n",
       "      <td>3b7ca996-37f9-433f-b6d0-ce8391b615ad</td>\n",
       "    </tr>\n",
       "    <tr>\n",
       "      <th>1</th>\n",
       "      <td>22:44:06</td>\n",
       "      <td>2</td>\n",
       "      <td>1997</td>\n",
       "      <td>10</td>\n",
       "      <td>Evening</td>\n",
       "      <td>adc86836-6c35-49ca-bb0d-65b6507a00fa</td>\n",
       "    </tr>\n",
       "    <tr>\n",
       "      <th>2</th>\n",
       "      <td>10:05:37</td>\n",
       "      <td>4</td>\n",
       "      <td>1994</td>\n",
       "      <td>15</td>\n",
       "      <td>Morning</td>\n",
       "      <td>5ff791bf-d8e0-4f86-8ceb-c7b60bef9b31</td>\n",
       "    </tr>\n",
       "    <tr>\n",
       "      <th>3</th>\n",
       "      <td>17:29:27</td>\n",
       "      <td>11</td>\n",
       "      <td>2001</td>\n",
       "      <td>6</td>\n",
       "      <td>Midday</td>\n",
       "      <td>1b01fcef-5ab9-404c-b0d4-1e75a0bd19d8</td>\n",
       "    </tr>\n",
       "    <tr>\n",
       "      <th>4</th>\n",
       "      <td>22:40:33</td>\n",
       "      <td>12</td>\n",
       "      <td>2015</td>\n",
       "      <td>31</td>\n",
       "      <td>Evening</td>\n",
       "      <td>dfa907c1-f6c5-40f0-aa0d-40ed77ac5a44</td>\n",
       "    </tr>\n",
       "  </tbody>\n",
       "</table>\n",
       "</div>"
      ],
      "text/plain": [
       "  timestamp month  year day time_period                             date_uuid\n",
       "0  22:00:06     9  2012  19     Evening  3b7ca996-37f9-433f-b6d0-ce8391b615ad\n",
       "1  22:44:06     2  1997  10     Evening  adc86836-6c35-49ca-bb0d-65b6507a00fa\n",
       "2  10:05:37     4  1994  15     Morning  5ff791bf-d8e0-4f86-8ceb-c7b60bef9b31\n",
       "3  17:29:27    11  2001   6      Midday  1b01fcef-5ab9-404c-b0d4-1e75a0bd19d8\n",
       "4  22:40:33    12  2015  31     Evening  dfa907c1-f6c5-40f0-aa0d-40ed77ac5a44"
      ]
     },
     "execution_count": 2,
     "metadata": {},
     "output_type": "execute_result"
    }
   ],
   "source": [
    "# Task 8\n",
    "import pandas as pd\n",
    "path = 'https://data-handling-public.s3.eu-west-1.amazonaws.com/date_details.json'\n",
    "\n",
    "date_details_data = pd.read_json(path)\n",
    "date_details_data.head()"
   ]
  },
  {
   "cell_type": "code",
   "execution_count": 3,
   "metadata": {},
   "outputs": [],
   "source": [
    "cleaned_date_details = DataCleaning(date_details_data).clean_date_data(date_details_data)"
   ]
  },
  {
   "cell_type": "code",
   "execution_count": 4,
   "metadata": {},
   "outputs": [
    {
     "data": {
      "text/plain": [
       "147"
      ]
     },
     "execution_count": 4,
     "metadata": {},
     "output_type": "execute_result"
    }
   ],
   "source": [
    "connector = DatabaseConnector('sales_data_creds.yaml')\n",
    "connector.upload_to_db(cleaned_date_details, 'dim_date_times')"
   ]
  }
 ],
 "metadata": {
  "kernelspec": {
   "display_name": "base",
   "language": "python",
   "name": "python3"
  },
  "language_info": {
   "codemirror_mode": {
    "name": "ipython",
    "version": 3
   },
   "file_extension": ".py",
   "mimetype": "text/x-python",
   "name": "python",
   "nbconvert_exporter": "python",
   "pygments_lexer": "ipython3",
   "version": "3.11.4"
  },
  "orig_nbformat": 4
 },
 "nbformat": 4,
 "nbformat_minor": 2
}
