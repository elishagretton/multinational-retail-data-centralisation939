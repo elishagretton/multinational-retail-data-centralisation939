{
 "cells": [
  {
   "cell_type": "code",
   "execution_count": 1,
   "metadata": {},
   "outputs": [],
   "source": [
    "from database_utils import DatabaseConnector\n",
    "from data_cleaning import DataCleaning\n",
    "from data_extraction import DataExtractor"
   ]
  },
  {
   "cell_type": "code",
   "execution_count": 3,
   "metadata": {},
   "outputs": [
    {
     "ename": "PendingRollbackError",
     "evalue": "Can't reconnect until invalid transaction is rolled back.  Please rollback() fully before proceeding (Background on this error at: https://sqlalche.me/e/20/8s2b)",
     "output_type": "error",
     "traceback": [
      "\u001b[0;31m---------------------------------------------------------------------------\u001b[0m",
      "\u001b[0;31mPendingRollbackError\u001b[0m                      Traceback (most recent call last)",
      "Cell \u001b[0;32mIn[3], line 4\u001b[0m\n\u001b[1;32m      1\u001b[0m \u001b[39m# Uploading cleaned sales_data to sql table dim_users in sales_data sql\u001b[39;00m\n\u001b[1;32m      3\u001b[0m example \u001b[39m=\u001b[39m DataCleaning(\u001b[39m'\u001b[39m\u001b[39mlegacy_users\u001b[39m\u001b[39m'\u001b[39m)\n\u001b[0;32m----> 4\u001b[0m clean_dataframe \u001b[39m=\u001b[39m example\u001b[39m.\u001b[39;49mclean_user_data()\n\u001b[1;32m      6\u001b[0m instance \u001b[39m=\u001b[39m DatabaseConnector(\u001b[39m'\u001b[39m\u001b[39msales_data_creds.yaml\u001b[39m\u001b[39m'\u001b[39m)\n\u001b[1;32m      7\u001b[0m instance\u001b[39m.\u001b[39mupload_to_db(clean_dataframe, \u001b[39m'\u001b[39m\u001b[39mdim_users\u001b[39m\u001b[39m'\u001b[39m)\n",
      "File \u001b[0;32m~/Desktop/AiCore Bootcamp/multinational-retail-data-centralisation939/data_cleaning.py:16\u001b[0m, in \u001b[0;36mDataCleaning.clean_user_data\u001b[0;34m(self)\u001b[0m\n\u001b[1;32m     15\u001b[0m \u001b[39mdef\u001b[39;00m \u001b[39mclean_user_data\u001b[39m(\u001b[39mself\u001b[39m):\n\u001b[0;32m---> 16\u001b[0m     df \u001b[39m=\u001b[39m \u001b[39mself\u001b[39;49m\u001b[39m.\u001b[39;49mdb_extractor\u001b[39m.\u001b[39;49mread_rds_table(\u001b[39mself\u001b[39;49m\u001b[39m.\u001b[39;49muncleaned_df)\n\u001b[1;32m     18\u001b[0m     \u001b[39m# Drop null values in place\u001b[39;00m\n\u001b[1;32m     19\u001b[0m     df\u001b[39m.\u001b[39mdropna(inplace\u001b[39m=\u001b[39m\u001b[39mTrue\u001b[39;00m)\n",
      "File \u001b[0;32m~/Desktop/AiCore Bootcamp/multinational-retail-data-centralisation939/data_extraction.py:20\u001b[0m, in \u001b[0;36mDataExtractor.read_rds_table\u001b[0;34m(self, table_name)\u001b[0m\n\u001b[1;32m     19\u001b[0m \u001b[39mdef\u001b[39;00m \u001b[39mread_rds_table\u001b[39m(\u001b[39mself\u001b[39m, table_name):\n\u001b[0;32m---> 20\u001b[0m     table_data \u001b[39m=\u001b[39m pd\u001b[39m.\u001b[39;49mread_sql_table(table_name, \u001b[39mself\u001b[39;49m\u001b[39m.\u001b[39;49mdb_engine)\u001b[39m.\u001b[39mset_index(\u001b[39m'\u001b[39m\u001b[39mindex\u001b[39m\u001b[39m'\u001b[39m)\n\u001b[1;32m     21\u001b[0m     \u001b[39mreturn\u001b[39;00m table_data\n",
      "File \u001b[0;32m~/miniconda3/lib/python3.11/site-packages/pandas/io/sql.py:344\u001b[0m, in \u001b[0;36mread_sql_table\u001b[0;34m(table_name, con, schema, index_col, coerce_float, parse_dates, columns, chunksize, dtype_backend)\u001b[0m\n\u001b[1;32m    341\u001b[0m     dtype_backend \u001b[39m=\u001b[39m \u001b[39m\"\u001b[39m\u001b[39mnumpy\u001b[39m\u001b[39m\"\u001b[39m  \u001b[39m# type: ignore[assignment]\u001b[39;00m\n\u001b[1;32m    342\u001b[0m \u001b[39massert\u001b[39;00m dtype_backend \u001b[39mis\u001b[39;00m \u001b[39mnot\u001b[39;00m lib\u001b[39m.\u001b[39mno_default\n\u001b[0;32m--> 344\u001b[0m \u001b[39mwith\u001b[39;49;00m pandasSQL_builder(con, schema\u001b[39m=\u001b[39;49mschema, need_transaction\u001b[39m=\u001b[39;49m\u001b[39mTrue\u001b[39;49;00m) \u001b[39mas\u001b[39;49;00m pandas_sql:\n\u001b[1;32m    345\u001b[0m     \u001b[39mif\u001b[39;49;00m \u001b[39mnot\u001b[39;49;00m pandas_sql\u001b[39m.\u001b[39;49mhas_table(table_name):\n\u001b[1;32m    346\u001b[0m         \u001b[39mraise\u001b[39;49;00m \u001b[39mValueError\u001b[39;49;00m(\u001b[39mf\u001b[39;49m\u001b[39m\"\u001b[39;49m\u001b[39mTable \u001b[39;49m\u001b[39m{\u001b[39;49;00mtable_name\u001b[39m}\u001b[39;49;00m\u001b[39m not found\u001b[39;49m\u001b[39m\"\u001b[39;49m)\n",
      "File \u001b[0;32m~/miniconda3/lib/python3.11/site-packages/pandas/io/sql.py:1585\u001b[0m, in \u001b[0;36mSQLDatabase.__exit__\u001b[0;34m(self, *args)\u001b[0m\n\u001b[1;32m   1583\u001b[0m \u001b[39mdef\u001b[39;00m \u001b[39m__exit__\u001b[39m(\u001b[39mself\u001b[39m, \u001b[39m*\u001b[39margs) \u001b[39m-\u001b[39m\u001b[39m>\u001b[39m \u001b[39mNone\u001b[39;00m:\n\u001b[1;32m   1584\u001b[0m     \u001b[39mif\u001b[39;00m \u001b[39mnot\u001b[39;00m \u001b[39mself\u001b[39m\u001b[39m.\u001b[39mreturns_generator:\n\u001b[0;32m-> 1585\u001b[0m         \u001b[39mself\u001b[39;49m\u001b[39m.\u001b[39;49mexit_stack\u001b[39m.\u001b[39;49mclose()\n",
      "File \u001b[0;32m~/miniconda3/lib/python3.11/contextlib.py:597\u001b[0m, in \u001b[0;36mExitStack.close\u001b[0;34m(self)\u001b[0m\n\u001b[1;32m    595\u001b[0m \u001b[39mdef\u001b[39;00m \u001b[39mclose\u001b[39m(\u001b[39mself\u001b[39m):\n\u001b[1;32m    596\u001b[0m \u001b[39m    \u001b[39m\u001b[39m\"\"\"Immediately unwind the context stack.\"\"\"\u001b[39;00m\n\u001b[0;32m--> 597\u001b[0m     \u001b[39mself\u001b[39;49m\u001b[39m.\u001b[39;49m\u001b[39m__exit__\u001b[39;49m(\u001b[39mNone\u001b[39;49;00m, \u001b[39mNone\u001b[39;49;00m, \u001b[39mNone\u001b[39;49;00m)\n",
      "File \u001b[0;32m~/miniconda3/lib/python3.11/contextlib.py:589\u001b[0m, in \u001b[0;36mExitStack.__exit__\u001b[0;34m(self, *exc_details)\u001b[0m\n\u001b[1;32m    585\u001b[0m \u001b[39mtry\u001b[39;00m:\n\u001b[1;32m    586\u001b[0m     \u001b[39m# bare \"raise exc_details[1]\" replaces our carefully\u001b[39;00m\n\u001b[1;32m    587\u001b[0m     \u001b[39m# set-up context\u001b[39;00m\n\u001b[1;32m    588\u001b[0m     fixed_ctx \u001b[39m=\u001b[39m exc_details[\u001b[39m1\u001b[39m]\u001b[39m.\u001b[39m__context__\n\u001b[0;32m--> 589\u001b[0m     \u001b[39mraise\u001b[39;00m exc_details[\u001b[39m1\u001b[39m]\n\u001b[1;32m    590\u001b[0m \u001b[39mexcept\u001b[39;00m \u001b[39mBaseException\u001b[39;00m:\n\u001b[1;32m    591\u001b[0m     exc_details[\u001b[39m1\u001b[39m]\u001b[39m.\u001b[39m__context__ \u001b[39m=\u001b[39m fixed_ctx\n",
      "File \u001b[0;32m~/miniconda3/lib/python3.11/contextlib.py:574\u001b[0m, in \u001b[0;36mExitStack.__exit__\u001b[0;34m(self, *exc_details)\u001b[0m\n\u001b[1;32m    572\u001b[0m \u001b[39massert\u001b[39;00m is_sync\n\u001b[1;32m    573\u001b[0m \u001b[39mtry\u001b[39;00m:\n\u001b[0;32m--> 574\u001b[0m     \u001b[39mif\u001b[39;00m cb(\u001b[39m*\u001b[39;49mexc_details):\n\u001b[1;32m    575\u001b[0m         suppressed_exc \u001b[39m=\u001b[39m \u001b[39mTrue\u001b[39;00m\n\u001b[1;32m    576\u001b[0m         pending_raise \u001b[39m=\u001b[39m \u001b[39mFalse\u001b[39;00m\n",
      "File \u001b[0;32m~/miniconda3/lib/python3.11/site-packages/sqlalchemy/engine/util.py:146\u001b[0m, in \u001b[0;36mTransactionalContext.__exit__\u001b[0;34m(self, type_, value, traceback)\u001b[0m\n\u001b[1;32m    144\u001b[0m     \u001b[39mself\u001b[39m\u001b[39m.\u001b[39mcommit()\n\u001b[1;32m    145\u001b[0m \u001b[39mexcept\u001b[39;00m:\n\u001b[0;32m--> 146\u001b[0m     \u001b[39mwith\u001b[39;49;00m util\u001b[39m.\u001b[39;49msafe_reraise():\n\u001b[1;32m    147\u001b[0m         \u001b[39mif\u001b[39;49;00m \u001b[39mself\u001b[39;49m\u001b[39m.\u001b[39;49m_rollback_can_be_called():\n\u001b[1;32m    148\u001b[0m             \u001b[39mself\u001b[39;49m\u001b[39m.\u001b[39;49mrollback()\n",
      "File \u001b[0;32m~/miniconda3/lib/python3.11/site-packages/sqlalchemy/util/langhelpers.py:146\u001b[0m, in \u001b[0;36msafe_reraise.__exit__\u001b[0;34m(self, type_, value, traceback)\u001b[0m\n\u001b[1;32m    144\u001b[0m     \u001b[39massert\u001b[39;00m exc_value \u001b[39mis\u001b[39;00m \u001b[39mnot\u001b[39;00m \u001b[39mNone\u001b[39;00m\n\u001b[1;32m    145\u001b[0m     \u001b[39mself\u001b[39m\u001b[39m.\u001b[39m_exc_info \u001b[39m=\u001b[39m \u001b[39mNone\u001b[39;00m  \u001b[39m# remove potential circular references\u001b[39;00m\n\u001b[0;32m--> 146\u001b[0m     \u001b[39mraise\u001b[39;00m exc_value\u001b[39m.\u001b[39mwith_traceback(exc_tb)\n\u001b[1;32m    147\u001b[0m \u001b[39melse\u001b[39;00m:\n\u001b[1;32m    148\u001b[0m     \u001b[39mself\u001b[39m\u001b[39m.\u001b[39m_exc_info \u001b[39m=\u001b[39m \u001b[39mNone\u001b[39;00m  \u001b[39m# remove potential circular references\u001b[39;00m\n",
      "File \u001b[0;32m~/miniconda3/lib/python3.11/site-packages/sqlalchemy/engine/util.py:144\u001b[0m, in \u001b[0;36mTransactionalContext.__exit__\u001b[0;34m(self, type_, value, traceback)\u001b[0m\n\u001b[1;32m    142\u001b[0m \u001b[39mif\u001b[39;00m type_ \u001b[39mis\u001b[39;00m \u001b[39mNone\u001b[39;00m \u001b[39mand\u001b[39;00m \u001b[39mself\u001b[39m\u001b[39m.\u001b[39m_transaction_is_active():\n\u001b[1;32m    143\u001b[0m     \u001b[39mtry\u001b[39;00m:\n\u001b[0;32m--> 144\u001b[0m         \u001b[39mself\u001b[39;49m\u001b[39m.\u001b[39;49mcommit()\n\u001b[1;32m    145\u001b[0m     \u001b[39mexcept\u001b[39;00m:\n\u001b[1;32m    146\u001b[0m         \u001b[39mwith\u001b[39;00m util\u001b[39m.\u001b[39msafe_reraise():\n",
      "File \u001b[0;32m~/miniconda3/lib/python3.11/site-packages/sqlalchemy/engine/base.py:2619\u001b[0m, in \u001b[0;36mTransaction.commit\u001b[0;34m(self)\u001b[0m\n\u001b[1;32m   2603\u001b[0m \u001b[39m\u001b[39m\u001b[39m\"\"\"Commit this :class:`.Transaction`.\u001b[39;00m\n\u001b[1;32m   2604\u001b[0m \n\u001b[1;32m   2605\u001b[0m \u001b[39mThe implementation of this may vary based on the type of transaction in\u001b[39;00m\n\u001b[0;32m   (...)\u001b[0m\n\u001b[1;32m   2616\u001b[0m \n\u001b[1;32m   2617\u001b[0m \u001b[39m\"\"\"\u001b[39;00m\n\u001b[1;32m   2618\u001b[0m \u001b[39mtry\u001b[39;00m:\n\u001b[0;32m-> 2619\u001b[0m     \u001b[39mself\u001b[39;49m\u001b[39m.\u001b[39;49m_do_commit()\n\u001b[1;32m   2620\u001b[0m \u001b[39mfinally\u001b[39;00m:\n\u001b[1;32m   2621\u001b[0m     \u001b[39massert\u001b[39;00m \u001b[39mnot\u001b[39;00m \u001b[39mself\u001b[39m\u001b[39m.\u001b[39mis_active\n",
      "File \u001b[0;32m~/miniconda3/lib/python3.11/site-packages/sqlalchemy/engine/base.py:2724\u001b[0m, in \u001b[0;36mRootTransaction._do_commit\u001b[0;34m(self)\u001b[0m\n\u001b[1;32m   2721\u001b[0m \u001b[39massert\u001b[39;00m \u001b[39mself\u001b[39m\u001b[39m.\u001b[39mconnection\u001b[39m.\u001b[39m_transaction \u001b[39mis\u001b[39;00m \u001b[39mself\u001b[39m\n\u001b[1;32m   2723\u001b[0m \u001b[39mtry\u001b[39;00m:\n\u001b[0;32m-> 2724\u001b[0m     \u001b[39mself\u001b[39;49m\u001b[39m.\u001b[39;49m_connection_commit_impl()\n\u001b[1;32m   2725\u001b[0m \u001b[39mfinally\u001b[39;00m:\n\u001b[1;32m   2726\u001b[0m     \u001b[39m# whether or not commit succeeds, cancel any\u001b[39;00m\n\u001b[1;32m   2727\u001b[0m     \u001b[39m# nested transactions, make this transaction \"inactive\"\u001b[39;00m\n\u001b[1;32m   2728\u001b[0m     \u001b[39m# and remove it as a reset agent\u001b[39;00m\n\u001b[1;32m   2729\u001b[0m     \u001b[39mif\u001b[39;00m \u001b[39mself\u001b[39m\u001b[39m.\u001b[39mconnection\u001b[39m.\u001b[39m_nested_transaction:\n",
      "File \u001b[0;32m~/miniconda3/lib/python3.11/site-packages/sqlalchemy/engine/base.py:2695\u001b[0m, in \u001b[0;36mRootTransaction._connection_commit_impl\u001b[0;34m(self)\u001b[0m\n\u001b[1;32m   2694\u001b[0m \u001b[39mdef\u001b[39;00m \u001b[39m_connection_commit_impl\u001b[39m(\u001b[39mself\u001b[39m) \u001b[39m-\u001b[39m\u001b[39m>\u001b[39m \u001b[39mNone\u001b[39;00m:\n\u001b[0;32m-> 2695\u001b[0m     \u001b[39mself\u001b[39;49m\u001b[39m.\u001b[39;49mconnection\u001b[39m.\u001b[39;49m_commit_impl()\n",
      "File \u001b[0;32m~/miniconda3/lib/python3.11/site-packages/sqlalchemy/engine/base.py:1138\u001b[0m, in \u001b[0;36mConnection._commit_impl\u001b[0;34m(self)\u001b[0m\n\u001b[1;32m   1136\u001b[0m     \u001b[39mself\u001b[39m\u001b[39m.\u001b[39mengine\u001b[39m.\u001b[39mdialect\u001b[39m.\u001b[39mdo_commit(\u001b[39mself\u001b[39m\u001b[39m.\u001b[39mconnection)\n\u001b[1;32m   1137\u001b[0m \u001b[39mexcept\u001b[39;00m \u001b[39mBaseException\u001b[39;00m \u001b[39mas\u001b[39;00m e:\n\u001b[0;32m-> 1138\u001b[0m     \u001b[39mself\u001b[39;49m\u001b[39m.\u001b[39;49m_handle_dbapi_exception(e, \u001b[39mNone\u001b[39;49;00m, \u001b[39mNone\u001b[39;49;00m, \u001b[39mNone\u001b[39;49;00m, \u001b[39mNone\u001b[39;49;00m)\n",
      "File \u001b[0;32m~/miniconda3/lib/python3.11/site-packages/sqlalchemy/engine/base.py:2346\u001b[0m, in \u001b[0;36mConnection._handle_dbapi_exception\u001b[0;34m(self, e, statement, parameters, cursor, context, is_sub_exec)\u001b[0m\n\u001b[1;32m   2344\u001b[0m     \u001b[39melse\u001b[39;00m:\n\u001b[1;32m   2345\u001b[0m         \u001b[39massert\u001b[39;00m exc_info[\u001b[39m1\u001b[39m] \u001b[39mis\u001b[39;00m \u001b[39mnot\u001b[39;00m \u001b[39mNone\u001b[39;00m\n\u001b[0;32m-> 2346\u001b[0m         \u001b[39mraise\u001b[39;00m exc_info[\u001b[39m1\u001b[39m]\u001b[39m.\u001b[39mwith_traceback(exc_info[\u001b[39m2\u001b[39m])\n\u001b[1;32m   2347\u001b[0m \u001b[39mfinally\u001b[39;00m:\n\u001b[1;32m   2348\u001b[0m     \u001b[39mdel\u001b[39;00m \u001b[39mself\u001b[39m\u001b[39m.\u001b[39m_reentrant_error\n",
      "File \u001b[0;32m~/miniconda3/lib/python3.11/site-packages/sqlalchemy/engine/base.py:1136\u001b[0m, in \u001b[0;36mConnection._commit_impl\u001b[0;34m(self)\u001b[0m\n\u001b[1;32m   1134\u001b[0m         \u001b[39mself\u001b[39m\u001b[39m.\u001b[39m_log_info(\u001b[39m\"\u001b[39m\u001b[39mCOMMIT\u001b[39m\u001b[39m\"\u001b[39m)\n\u001b[1;32m   1135\u001b[0m \u001b[39mtry\u001b[39;00m:\n\u001b[0;32m-> 1136\u001b[0m     \u001b[39mself\u001b[39m\u001b[39m.\u001b[39mengine\u001b[39m.\u001b[39mdialect\u001b[39m.\u001b[39mdo_commit(\u001b[39mself\u001b[39;49m\u001b[39m.\u001b[39;49mconnection)\n\u001b[1;32m   1137\u001b[0m \u001b[39mexcept\u001b[39;00m \u001b[39mBaseException\u001b[39;00m \u001b[39mas\u001b[39;00m e:\n\u001b[1;32m   1138\u001b[0m     \u001b[39mself\u001b[39m\u001b[39m.\u001b[39m_handle_dbapi_exception(e, \u001b[39mNone\u001b[39;00m, \u001b[39mNone\u001b[39;00m, \u001b[39mNone\u001b[39;00m, \u001b[39mNone\u001b[39;00m)\n",
      "File \u001b[0;32m~/miniconda3/lib/python3.11/site-packages/sqlalchemy/engine/base.py:577\u001b[0m, in \u001b[0;36mConnection.connection\u001b[0;34m(self)\u001b[0m\n\u001b[1;32m    575\u001b[0m \u001b[39mif\u001b[39;00m \u001b[39mself\u001b[39m\u001b[39m.\u001b[39m_dbapi_connection \u001b[39mis\u001b[39;00m \u001b[39mNone\u001b[39;00m:\n\u001b[1;32m    576\u001b[0m     \u001b[39mtry\u001b[39;00m:\n\u001b[0;32m--> 577\u001b[0m         \u001b[39mreturn\u001b[39;00m \u001b[39mself\u001b[39;49m\u001b[39m.\u001b[39;49m_revalidate_connection()\n\u001b[1;32m    578\u001b[0m     \u001b[39mexcept\u001b[39;00m (exc\u001b[39m.\u001b[39mPendingRollbackError, exc\u001b[39m.\u001b[39mResourceClosedError):\n\u001b[1;32m    579\u001b[0m         \u001b[39mraise\u001b[39;00m\n",
      "File \u001b[0;32m~/miniconda3/lib/python3.11/site-packages/sqlalchemy/engine/base.py:669\u001b[0m, in \u001b[0;36mConnection._revalidate_connection\u001b[0;34m(self)\u001b[0m\n\u001b[1;32m    667\u001b[0m \u001b[39mif\u001b[39;00m \u001b[39mself\u001b[39m\u001b[39m.\u001b[39m__can_reconnect \u001b[39mand\u001b[39;00m \u001b[39mself\u001b[39m\u001b[39m.\u001b[39minvalidated:\n\u001b[1;32m    668\u001b[0m     \u001b[39mif\u001b[39;00m \u001b[39mself\u001b[39m\u001b[39m.\u001b[39m_transaction \u001b[39mis\u001b[39;00m \u001b[39mnot\u001b[39;00m \u001b[39mNone\u001b[39;00m:\n\u001b[0;32m--> 669\u001b[0m         \u001b[39mself\u001b[39;49m\u001b[39m.\u001b[39;49m_invalid_transaction()\n\u001b[1;32m    670\u001b[0m     \u001b[39mself\u001b[39m\u001b[39m.\u001b[39m_dbapi_connection \u001b[39m=\u001b[39m \u001b[39mself\u001b[39m\u001b[39m.\u001b[39mengine\u001b[39m.\u001b[39mraw_connection()\n\u001b[1;32m    671\u001b[0m     \u001b[39mreturn\u001b[39;00m \u001b[39mself\u001b[39m\u001b[39m.\u001b[39m_dbapi_connection\n",
      "File \u001b[0;32m~/miniconda3/lib/python3.11/site-packages/sqlalchemy/engine/base.py:659\u001b[0m, in \u001b[0;36mConnection._invalid_transaction\u001b[0;34m(self)\u001b[0m\n\u001b[1;32m    658\u001b[0m \u001b[39mdef\u001b[39;00m \u001b[39m_invalid_transaction\u001b[39m(\u001b[39mself\u001b[39m) \u001b[39m-\u001b[39m\u001b[39m>\u001b[39m NoReturn:\n\u001b[0;32m--> 659\u001b[0m     \u001b[39mraise\u001b[39;00m exc\u001b[39m.\u001b[39mPendingRollbackError(\n\u001b[1;32m    660\u001b[0m         \u001b[39m\"\u001b[39m\u001b[39mCan\u001b[39m\u001b[39m'\u001b[39m\u001b[39mt reconnect until invalid \u001b[39m\u001b[39m%s\u001b[39;00m\u001b[39mtransaction is rolled \u001b[39m\u001b[39m\"\u001b[39m\n\u001b[1;32m    661\u001b[0m         \u001b[39m\"\u001b[39m\u001b[39mback.  Please rollback() fully before proceeding\u001b[39m\u001b[39m\"\u001b[39m\n\u001b[1;32m    662\u001b[0m         \u001b[39m%\u001b[39m (\u001b[39m\"\u001b[39m\u001b[39msavepoint \u001b[39m\u001b[39m\"\u001b[39m \u001b[39mif\u001b[39;00m \u001b[39mself\u001b[39m\u001b[39m.\u001b[39m_nested_transaction \u001b[39mis\u001b[39;00m \u001b[39mnot\u001b[39;00m \u001b[39mNone\u001b[39;00m \u001b[39melse\u001b[39;00m \u001b[39m\"\u001b[39m\u001b[39m\"\u001b[39m),\n\u001b[1;32m    663\u001b[0m         code\u001b[39m=\u001b[39m\u001b[39m\"\u001b[39m\u001b[39m8s2b\u001b[39m\u001b[39m\"\u001b[39m,\n\u001b[1;32m    664\u001b[0m     )\n",
      "\u001b[0;31mPendingRollbackError\u001b[0m: Can't reconnect until invalid transaction is rolled back.  Please rollback() fully before proceeding (Background on this error at: https://sqlalche.me/e/20/8s2b)"
     ]
    }
   ],
   "source": [
    "# Uploading cleaned sales_data to sql table dim_users in sales_data sql\n",
    "\n",
    "example = DataCleaning('legacy_users')\n",
    "clean_dataframe = example.clean_user_data()\n",
    "\n",
    "instance = DatabaseConnector('sales_data_creds.yaml')\n",
    "instance.upload_to_db(clean_dataframe, 'dim_users')"
   ]
  },
  {
   "cell_type": "code",
   "execution_count": null,
   "metadata": {},
   "outputs": [],
   "source": [
    "# Uploading pdf to extractor\n",
    "\n",
    "extractor = DataExtractor()\n",
    "pdf_data = extractor.retrieve_pdf_data('card_details.pdf')\n",
    "pdf_data.head()"
   ]
  },
  {
   "cell_type": "code",
   "execution_count": null,
   "metadata": {},
   "outputs": [],
   "source": [
    "pdf_data.info()\n"
   ]
  },
  {
   "cell_type": "code",
   "execution_count": null,
   "metadata": {},
   "outputs": [],
   "source": [
    "# Uploading card details to sales_data sql\n",
    "example = DataCleaning('card_details.pdf')\n",
    "pdf_data = example.clean_card_data()\n",
    "\n",
    "instance = DatabaseConnector('sales_data_creds.yaml')\n",
    "instance.upload_to_db(pdf_data, 'dim_card_details')"
   ]
  },
  {
   "cell_type": "code",
   "execution_count": null,
   "metadata": {},
   "outputs": [],
   "source": [
    "# Task 5, Step 3: Retrieve end points\n",
    "header = {'x-api-key' : 'yFBQbwXe9J3sd6zWVAMrK6lcxxr0q1lr2PT6DDMX'}\n",
    "\n",
    "number_of_stores_endpoint = 'https://aqj7u5id95.execute-api.eu-west-1.amazonaws.com/prod/number_stores'\n",
    "extractor = DataExtractor()\n",
    "number_of_stores = extractor.list_number_of_stores(number_of_stores_endpoint,header)\n",
    "\n",
    "store_endpoint = 'https://aqj7u5id95.execute-api.eu-west-1.amazonaws.com/prod/store_details/'\n",
    "\n",
    "api_data = extractor.retrieve_stores_data(store_endpoint, number_of_stores, header)"
   ]
  },
  {
   "cell_type": "code",
   "execution_count": null,
   "metadata": {},
   "outputs": [],
   "source": [
    "# Task 5, Step 4: Clean data\n",
    "example = DataCleaning(api_data)\n",
    "cleaned_df = example.called_clean_store_data()\n",
    "print(cleaned_df.head())\n",
    "print(cleaned_df.info())"
   ]
  },
  {
   "cell_type": "code",
   "execution_count": null,
   "metadata": {},
   "outputs": [],
   "source": [
    "# Task 5, Step 5: Upload df using upload_to_db to dim_store_details\n",
    "instance = DatabaseConnector(file_path='sales_creds.yaml')\n",
    "instance.upload_to_db(cleaned_df,'dim_store_details')\n",
    "\n"
   ]
  }
 ],
 "metadata": {
  "kernelspec": {
   "display_name": "base",
   "language": "python",
   "name": "python3"
  },
  "language_info": {
   "codemirror_mode": {
    "name": "ipython",
    "version": 3
   },
   "file_extension": ".py",
   "mimetype": "text/x-python",
   "name": "python",
   "nbconvert_exporter": "python",
   "pygments_lexer": "ipython3",
   "version": "3.11.4"
  },
  "orig_nbformat": 4
 },
 "nbformat": 4,
 "nbformat_minor": 2
}
