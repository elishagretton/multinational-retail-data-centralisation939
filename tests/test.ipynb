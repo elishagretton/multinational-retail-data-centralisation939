{
 "cells": [
  {
   "cell_type": "code",
   "execution_count": 1,
   "metadata": {},
   "outputs": [
    {
     "ename": "ModuleNotFoundError",
     "evalue": "No module named 'src'",
     "output_type": "error",
     "traceback": [
      "\u001b[0;31m---------------------------------------------------------------------------\u001b[0m",
      "\u001b[0;31mModuleNotFoundError\u001b[0m                       Traceback (most recent call last)",
      "Cell \u001b[0;32mIn[1], line 1\u001b[0m\n\u001b[0;32m----> 1\u001b[0m \u001b[39mfrom\u001b[39;00m \u001b[39msrc\u001b[39;00m\u001b[39m.\u001b[39;00m\u001b[39mdatabase_utils\u001b[39;00m \u001b[39mimport\u001b[39;00m DatabaseConnector\n\u001b[1;32m      2\u001b[0m \u001b[39mfrom\u001b[39;00m \u001b[39msrc\u001b[39;00m\u001b[39m.\u001b[39;00m\u001b[39mdata_cleaning\u001b[39;00m \u001b[39mimport\u001b[39;00m DataCleaning\n\u001b[1;32m      3\u001b[0m \u001b[39mfrom\u001b[39;00m \u001b[39msrc\u001b[39;00m\u001b[39m.\u001b[39;00m\u001b[39mdata_extraction\u001b[39;00m \u001b[39mimport\u001b[39;00m DataExtractor\n",
      "\u001b[0;31mModuleNotFoundError\u001b[0m: No module named 'src'"
     ]
    }
   ],
   "source": [
    "from src.database_utils import DatabaseConnector\n",
    "from src.data_cleaning import DataCleaning\n",
    "from src.data_extraction import DataExtractor"
   ]
  },
  {
   "cell_type": "code",
   "execution_count": null,
   "metadata": {},
   "outputs": [],
   "source": [
    "# Task 3, Step 2:\n",
    "# Create a method read_db_creds this will read the credentials yaml file and return a dictionary of the credentials.\n",
    "# You will need to pip install PyYAML and import yaml to do this.\n",
    "\n",
    "instance = DatabaseConnector('db_creds.yaml')\n",
    "instance.read_db_creds"
   ]
  },
  {
   "cell_type": "code",
   "execution_count": null,
   "metadata": {},
   "outputs": [],
   "source": [
    "# Uploading cleaned sales_data to sql table dim_users in sales_data sql\n",
    "\n",
    "example = DataCleaning('legacy_users')\n",
    "clean_dataframe = example.clean_user_data()\n",
    "\n",
    "instance = DatabaseConnector('sales_data_creds.yaml')\n",
    "instance.upload_to_db(clean_dataframe, 'dim_users')"
   ]
  },
  {
   "cell_type": "code",
   "execution_count": null,
   "metadata": {},
   "outputs": [],
   "source": [
    "# Uploading pdf to extractor\n",
    "\n",
    "extractor = DataExtractor()\n",
    "pdf_data = extractor.retrieve_pdf_data('card_details.pdf')\n",
    "pdf_data.head()"
   ]
  },
  {
   "cell_type": "code",
   "execution_count": null,
   "metadata": {},
   "outputs": [],
   "source": [
    "pdf_data.info()\n"
   ]
  },
  {
   "cell_type": "code",
   "execution_count": null,
   "metadata": {},
   "outputs": [],
   "source": [
    "# Uploading card details to sales_data sql\n",
    "example = DataCleaning('card_details.pdf')\n",
    "pdf_data = example.clean_card_data()\n",
    "\n",
    "instance = DatabaseConnector('sales_data_creds.yaml')\n",
    "instance.upload_to_db(pdf_data, 'dim_card_details')"
   ]
  },
  {
   "cell_type": "code",
   "execution_count": null,
   "metadata": {},
   "outputs": [],
   "source": [
    "# Task 5, Step 3: Retrieve end points\n",
    "header = {'x-api-key' : 'yFBQbwXe9J3sd6zWVAMrK6lcxxr0q1lr2PT6DDMX'}\n",
    "\n",
    "number_of_stores_endpoint = 'https://aqj7u5id95.execute-api.eu-west-1.amazonaws.com/prod/number_stores'\n",
    "extractor = DataExtractor()\n",
    "number_of_stores = extractor.list_number_of_stores(number_of_stores_endpoint,header)\n",
    "\n",
    "store_endpoint = 'https://aqj7u5id95.execute-api.eu-west-1.amazonaws.com/prod/store_details/'\n",
    "\n",
    "api_data = extractor.retrieve_stores_data(store_endpoint, number_of_stores, header)"
   ]
  },
  {
   "cell_type": "code",
   "execution_count": null,
   "metadata": {},
   "outputs": [],
   "source": [
    "# Task 5, Step 4: Clean data\n",
    "example = DataCleaning(api_data)\n",
    "cleaned_df = example.called_clean_store_data()\n",
    "print(cleaned_df.head())\n",
    "print(cleaned_df.info())"
   ]
  },
  {
   "cell_type": "code",
   "execution_count": null,
   "metadata": {},
   "outputs": [],
   "source": [
    "# Task 5, Step 5: Upload df using upload_to_db to dim_store_details\n",
    "instance = DatabaseConnector(file_path='sales_creds.yaml')\n",
    "instance.upload_to_db(cleaned_df,'dim_store_details')\n",
    "\n"
   ]
  },
  {
   "cell_type": "code",
   "execution_count": null,
   "metadata": {},
   "outputs": [],
   "source": [
    "# Task 6, Step 1: Extract data from s3 bucket into pd dataframe\n",
    "products_df = DataExtractor().extract_from_s3('s3://data-handling-public/products.csv')\n",
    "print(products_df.head())"
   ]
  },
  {
   "cell_type": "code",
   "execution_count": null,
   "metadata": {},
   "outputs": [],
   "source": [
    "products_df['weight'].unique()"
   ]
  },
  {
   "cell_type": "code",
   "execution_count": null,
   "metadata": {},
   "outputs": [],
   "source": [
    "# Task 6, Step 3: Upload products details to sales_data sql\n",
    "\n",
    "# Extract data from s3\n",
    "products_df = DataExtractor().extract_from_s3('s3://data-handling-public/products.csv')\n",
    "\n",
    "# Clean data\n",
    "cleaned_products_df = DataCleaning(products_df).clean_products_data(products_df)\n",
    "\n",
    "# Connect to sales_data and upload to sales_data db\n",
    "instance = DatabaseConnector('sales_data_creds.yaml')\n",
    "instance.upload_to_db(cleaned_products_df, 'dim_products')"
   ]
  },
  {
   "cell_type": "code",
   "execution_count": null,
   "metadata": {},
   "outputs": [],
   "source": [
    "# Task 7, Step 1\n",
    "connector = DatabaseConnector('db_creds.yaml')\n",
    "connector.list_db_tables()"
   ]
  },
  {
   "cell_type": "code",
   "execution_count": null,
   "metadata": {},
   "outputs": [],
   "source": [
    "# Task 7, Step 2\n",
    "extractor = DataExtractor()\n",
    "orders_table_data = extractor.read_rds_table('orders_table')\n"
   ]
  },
  {
   "cell_type": "code",
   "execution_count": null,
   "metadata": {},
   "outputs": [],
   "source": [
    "orders_table_data"
   ]
  },
  {
   "cell_type": "code",
   "execution_count": null,
   "metadata": {},
   "outputs": [],
   "source": [
    "cleaned_orders_data = DataCleaning(orders_table_data).clean_orders_data(orders_table_data)"
   ]
  },
  {
   "cell_type": "code",
   "execution_count": null,
   "metadata": {},
   "outputs": [],
   "source": [
    "cleaned_orders_data.info()"
   ]
  },
  {
   "cell_type": "code",
   "execution_count": null,
   "metadata": {},
   "outputs": [],
   "source": [
    "# Task 7, Step 4\n",
    "connector = DatabaseConnector('sales_data_creds.yaml')\n",
    "connector.upload_to_db(cleaned_orders_data, 'orders_table')"
   ]
  },
  {
   "cell_type": "code",
   "execution_count": null,
   "metadata": {},
   "outputs": [],
   "source": [
    "# Task 8\n",
    "import pandas as pd\n",
    "path = 'https://data-handling-public.s3.eu-west-1.amazonaws.com/date_details.json'\n",
    "\n",
    "date_details_data = pd.read_json(path)\n",
    "date_details_data.head()"
   ]
  },
  {
   "cell_type": "code",
   "execution_count": null,
   "metadata": {},
   "outputs": [],
   "source": [
    "cleaned_date_details = DataCleaning(date_details_data).clean_date_data(date_details_data)"
   ]
  },
  {
   "cell_type": "code",
   "execution_count": null,
   "metadata": {},
   "outputs": [],
   "source": [
    "connector = DatabaseConnector('sales_data_creds.yaml')\n",
    "connector.upload_to_db(cleaned_date_details, 'dim_date_times')"
   ]
  }
 ],
 "metadata": {
  "kernelspec": {
   "display_name": "base",
   "language": "python",
   "name": "python3"
  },
  "language_info": {
   "codemirror_mode": {
    "name": "ipython",
    "version": 3
   },
   "file_extension": ".py",
   "mimetype": "text/x-python",
   "name": "python",
   "nbconvert_exporter": "python",
   "pygments_lexer": "ipython3",
   "version": "3.11.4"
  },
  "orig_nbformat": 4
 },
 "nbformat": 4,
 "nbformat_minor": 2
}
