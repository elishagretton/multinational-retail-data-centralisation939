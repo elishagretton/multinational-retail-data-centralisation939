{
 "cells": [
  {
   "cell_type": "code",
   "execution_count": 33,
   "metadata": {},
   "outputs": [],
   "source": [
    "import sys\n",
    "sys.path.append('/Users/apple/Desktop/AiCore Bootcamp/multinational-retail-data-centralisation939')"
   ]
  },
  {
   "cell_type": "code",
   "execution_count": 34,
   "metadata": {},
   "outputs": [],
   "source": [
    "from src.database_utils import DatabaseConnector\n",
    "from src.data_cleaning import DataCleaning\n",
    "from src.data_extraction import DataExtractor"
   ]
  },
  {
   "cell_type": "code",
   "execution_count": 35,
   "metadata": {},
   "outputs": [],
   "source": [
    "import pandas as pd\n",
    "import numpy as np"
   ]
  },
  {
   "cell_type": "markdown",
   "metadata": {},
   "source": [
    "## Task 3: Extract and clean user data"
   ]
  },
  {
   "cell_type": "code",
   "execution_count": 6,
   "metadata": {},
   "outputs": [],
   "source": [
    "# Task 3, Step 2:\n",
    "# Create a method read_db_creds this will read the credentials yaml file and return a dictionary of the credentials.\n",
    "\n",
    "instance = DatabaseConnector('../db_creds.yaml')\n",
    "db_creds = instance.read_db_creds()"
   ]
  },
  {
   "cell_type": "code",
   "execution_count": 7,
   "metadata": {},
   "outputs": [],
   "source": [
    "# Task 3, Step 3:\n",
    "# Create a method init_db_engine which will read the credentials from the return of read_db_creds and initialise and return an sqlalchemy database engine.\n",
    "\n",
    "db_engine = instance.init_db_engine()"
   ]
  },
  {
   "cell_type": "code",
   "execution_count": 8,
   "metadata": {},
   "outputs": [
    {
     "name": "stdout",
     "output_type": "stream",
     "text": [
      "['legacy_store_details', 'legacy_users', 'orders_table']\n"
     ]
    }
   ],
   "source": [
    "# Task 3, Step 4:\n",
    "# Using the engine from init_db_engine create a method list_db_tables to list all the tables in the database so you know which tables you can extract data from.\n",
    "\n",
    "table_names = instance.list_db_tables()\n",
    "print(table_names)"
   ]
  },
  {
   "cell_type": "code",
   "execution_count": 9,
   "metadata": {},
   "outputs": [
    {
     "data": {
      "text/html": [
       "<div>\n",
       "<style scoped>\n",
       "    .dataframe tbody tr th:only-of-type {\n",
       "        vertical-align: middle;\n",
       "    }\n",
       "\n",
       "    .dataframe tbody tr th {\n",
       "        vertical-align: top;\n",
       "    }\n",
       "\n",
       "    .dataframe thead th {\n",
       "        text-align: right;\n",
       "    }\n",
       "</style>\n",
       "<table border=\"1\" class=\"dataframe\">\n",
       "  <thead>\n",
       "    <tr style=\"text-align: right;\">\n",
       "      <th></th>\n",
       "      <th>first_name</th>\n",
       "      <th>last_name</th>\n",
       "      <th>date_of_birth</th>\n",
       "      <th>company</th>\n",
       "      <th>email_address</th>\n",
       "      <th>address</th>\n",
       "      <th>country</th>\n",
       "      <th>country_code</th>\n",
       "      <th>phone_number</th>\n",
       "      <th>join_date</th>\n",
       "      <th>user_uuid</th>\n",
       "    </tr>\n",
       "    <tr>\n",
       "      <th>index</th>\n",
       "      <th></th>\n",
       "      <th></th>\n",
       "      <th></th>\n",
       "      <th></th>\n",
       "      <th></th>\n",
       "      <th></th>\n",
       "      <th></th>\n",
       "      <th></th>\n",
       "      <th></th>\n",
       "      <th></th>\n",
       "      <th></th>\n",
       "    </tr>\n",
       "  </thead>\n",
       "  <tbody>\n",
       "    <tr>\n",
       "      <th>0</th>\n",
       "      <td>Sigfried</td>\n",
       "      <td>Noack</td>\n",
       "      <td>1990-09-30</td>\n",
       "      <td>Heydrich Junitz KG</td>\n",
       "      <td>rudi79@winkler.de</td>\n",
       "      <td>Zimmerstr. 1/0\\n59015 Gießen</td>\n",
       "      <td>Germany</td>\n",
       "      <td>DE</td>\n",
       "      <td>+49(0) 047905356</td>\n",
       "      <td>2018-10-10</td>\n",
       "      <td>93caf182-e4e9-4c6e-bebb-60a1a9dcf9b8</td>\n",
       "    </tr>\n",
       "    <tr>\n",
       "      <th>1</th>\n",
       "      <td>Guy</td>\n",
       "      <td>Allen</td>\n",
       "      <td>1940-12-01</td>\n",
       "      <td>Fox Ltd</td>\n",
       "      <td>rhodesclifford@henderson.com</td>\n",
       "      <td>Studio 22a\\nLynne terrace\\nMcCarthymouth\\nTF0 9GH</td>\n",
       "      <td>United Kingdom</td>\n",
       "      <td>GB</td>\n",
       "      <td>(0161) 496 0674</td>\n",
       "      <td>2001-12-20</td>\n",
       "      <td>8fe96c3a-d62d-4eb5-b313-cf12d9126a49</td>\n",
       "    </tr>\n",
       "    <tr>\n",
       "      <th>2</th>\n",
       "      <td>Harry</td>\n",
       "      <td>Lawrence</td>\n",
       "      <td>1995-08-02</td>\n",
       "      <td>Johnson, Jones and Harris</td>\n",
       "      <td>glen98@bryant-marshall.co.uk</td>\n",
       "      <td>92 Ann drive\\nJoanborough\\nSK0 6LR</td>\n",
       "      <td>United Kingdom</td>\n",
       "      <td>GB</td>\n",
       "      <td>+44(0)121 4960340</td>\n",
       "      <td>2016-12-16</td>\n",
       "      <td>fc461df4-b919-48b2-909e-55c95a03fe6b</td>\n",
       "    </tr>\n",
       "    <tr>\n",
       "      <th>3</th>\n",
       "      <td>Darren</td>\n",
       "      <td>Hussain</td>\n",
       "      <td>1972-09-23</td>\n",
       "      <td>Wheeler LLC</td>\n",
       "      <td>daniellebryan@thompson.org</td>\n",
       "      <td>19 Robinson meadow\\nNew Tracy\\nW22 2QG</td>\n",
       "      <td>United Kingdom</td>\n",
       "      <td>GB</td>\n",
       "      <td>(0306) 999 0871</td>\n",
       "      <td>2004-02-23</td>\n",
       "      <td>6104719f-ef14-4b09-bf04-fb0c4620acb0</td>\n",
       "    </tr>\n",
       "    <tr>\n",
       "      <th>4</th>\n",
       "      <td>Garry</td>\n",
       "      <td>Stone</td>\n",
       "      <td>1952-12-20</td>\n",
       "      <td>Warner Inc</td>\n",
       "      <td>billy14@long-warren.com</td>\n",
       "      <td>3 White pass\\nHunterborough\\nNN96 4UE</td>\n",
       "      <td>United Kingdom</td>\n",
       "      <td>GB</td>\n",
       "      <td>0121 496 0225</td>\n",
       "      <td>2006-09-01</td>\n",
       "      <td>9523a6d3-b2dd-4670-a51a-36aebc89f579</td>\n",
       "    </tr>\n",
       "  </tbody>\n",
       "</table>\n",
       "</div>"
      ],
      "text/plain": [
       "      first_name last_name date_of_birth                    company  \\\n",
       "index                                                                 \n",
       "0       Sigfried     Noack    1990-09-30         Heydrich Junitz KG   \n",
       "1            Guy     Allen    1940-12-01                    Fox Ltd   \n",
       "2          Harry  Lawrence    1995-08-02  Johnson, Jones and Harris   \n",
       "3         Darren   Hussain    1972-09-23                Wheeler LLC   \n",
       "4          Garry     Stone    1952-12-20                 Warner Inc   \n",
       "\n",
       "                      email_address  \\\n",
       "index                                 \n",
       "0                 rudi79@winkler.de   \n",
       "1      rhodesclifford@henderson.com   \n",
       "2      glen98@bryant-marshall.co.uk   \n",
       "3        daniellebryan@thompson.org   \n",
       "4           billy14@long-warren.com   \n",
       "\n",
       "                                                 address         country  \\\n",
       "index                                                                      \n",
       "0                           Zimmerstr. 1/0\\n59015 Gießen         Germany   \n",
       "1      Studio 22a\\nLynne terrace\\nMcCarthymouth\\nTF0 9GH  United Kingdom   \n",
       "2                     92 Ann drive\\nJoanborough\\nSK0 6LR  United Kingdom   \n",
       "3                 19 Robinson meadow\\nNew Tracy\\nW22 2QG  United Kingdom   \n",
       "4                  3 White pass\\nHunterborough\\nNN96 4UE  United Kingdom   \n",
       "\n",
       "      country_code       phone_number   join_date  \\\n",
       "index                                               \n",
       "0               DE   +49(0) 047905356  2018-10-10   \n",
       "1               GB    (0161) 496 0674  2001-12-20   \n",
       "2               GB  +44(0)121 4960340  2016-12-16   \n",
       "3               GB    (0306) 999 0871  2004-02-23   \n",
       "4               GB      0121 496 0225  2006-09-01   \n",
       "\n",
       "                                  user_uuid  \n",
       "index                                        \n",
       "0      93caf182-e4e9-4c6e-bebb-60a1a9dcf9b8  \n",
       "1      8fe96c3a-d62d-4eb5-b313-cf12d9126a49  \n",
       "2      fc461df4-b919-48b2-909e-55c95a03fe6b  \n",
       "3      6104719f-ef14-4b09-bf04-fb0c4620acb0  \n",
       "4      9523a6d3-b2dd-4670-a51a-36aebc89f579  "
      ]
     },
     "execution_count": 9,
     "metadata": {},
     "output_type": "execute_result"
    }
   ],
   "source": [
    "# Task 3, Step 5:\n",
    "# Develop a method called read_rds_table in your DataExtractor class which will extract the database table to a pandas DataFrame.\n",
    "\n",
    "extractor = DataExtractor()\n",
    "user_data = extractor.read_rds_table('legacy_users')\n",
    "user_data.head()"
   ]
  },
  {
   "cell_type": "code",
   "execution_count": 10,
   "metadata": {},
   "outputs": [],
   "source": [
    "# Task 3, Step 6:\n",
    "# Create a method called clean_user_data in the DataCleaning class which will perform the cleaning of the user data.\n",
    "\n",
    "cleaner = DataCleaning()\n",
    "try:\n",
    "    cleaned_user_data = cleaner.clean_user_data(user_data)\n",
    "except Exception as e:\n",
    "    print(f\"An error occurred: {e}\")\n",
    "    import traceback\n",
    "    traceback.print_exc()"
   ]
  },
  {
   "cell_type": "code",
   "execution_count": 11,
   "metadata": {},
   "outputs": [
    {
     "data": {
      "text/html": [
       "<div>\n",
       "<style scoped>\n",
       "    .dataframe tbody tr th:only-of-type {\n",
       "        vertical-align: middle;\n",
       "    }\n",
       "\n",
       "    .dataframe tbody tr th {\n",
       "        vertical-align: top;\n",
       "    }\n",
       "\n",
       "    .dataframe thead th {\n",
       "        text-align: right;\n",
       "    }\n",
       "</style>\n",
       "<table border=\"1\" class=\"dataframe\">\n",
       "  <thead>\n",
       "    <tr style=\"text-align: right;\">\n",
       "      <th></th>\n",
       "      <th>first_name</th>\n",
       "      <th>last_name</th>\n",
       "      <th>date_of_birth</th>\n",
       "      <th>company</th>\n",
       "      <th>email_address</th>\n",
       "      <th>address</th>\n",
       "      <th>country</th>\n",
       "      <th>country_code</th>\n",
       "      <th>phone_number</th>\n",
       "      <th>join_date</th>\n",
       "      <th>user_uuid</th>\n",
       "    </tr>\n",
       "    <tr>\n",
       "      <th>index</th>\n",
       "      <th></th>\n",
       "      <th></th>\n",
       "      <th></th>\n",
       "      <th></th>\n",
       "      <th></th>\n",
       "      <th></th>\n",
       "      <th></th>\n",
       "      <th></th>\n",
       "      <th></th>\n",
       "      <th></th>\n",
       "      <th></th>\n",
       "    </tr>\n",
       "  </thead>\n",
       "  <tbody>\n",
       "    <tr>\n",
       "      <th>0</th>\n",
       "      <td>Sigfried</td>\n",
       "      <td>Noack</td>\n",
       "      <td>1990-09-30</td>\n",
       "      <td>Heydrich Junitz KG</td>\n",
       "      <td>rudi79@winkler.de</td>\n",
       "      <td>Zimmerstr. 1/0\\n59015 Gießen</td>\n",
       "      <td>Germany</td>\n",
       "      <td>DE</td>\n",
       "      <td>+49047905356</td>\n",
       "      <td>2018-10-10</td>\n",
       "      <td>93caf182-e4e9-4c6e-bebb-60a1a9dcf9b8</td>\n",
       "    </tr>\n",
       "    <tr>\n",
       "      <th>1</th>\n",
       "      <td>Guy</td>\n",
       "      <td>Allen</td>\n",
       "      <td>1940-12-01</td>\n",
       "      <td>Fox Ltd</td>\n",
       "      <td>rhodesclifford@henderson.com</td>\n",
       "      <td>Studio 22a\\nLynne terrace\\nMcCarthymouth\\nTF0 9GH</td>\n",
       "      <td>United Kingdom</td>\n",
       "      <td>GB</td>\n",
       "      <td>01614960674</td>\n",
       "      <td>2001-12-20</td>\n",
       "      <td>8fe96c3a-d62d-4eb5-b313-cf12d9126a49</td>\n",
       "    </tr>\n",
       "    <tr>\n",
       "      <th>2</th>\n",
       "      <td>Harry</td>\n",
       "      <td>Lawrence</td>\n",
       "      <td>1995-08-02</td>\n",
       "      <td>Johnson, Jones and Harris</td>\n",
       "      <td>glen98@bryant-marshall.co.uk</td>\n",
       "      <td>92 Ann drive\\nJoanborough\\nSK0 6LR</td>\n",
       "      <td>United Kingdom</td>\n",
       "      <td>GB</td>\n",
       "      <td>+441214960340</td>\n",
       "      <td>2016-12-16</td>\n",
       "      <td>fc461df4-b919-48b2-909e-55c95a03fe6b</td>\n",
       "    </tr>\n",
       "    <tr>\n",
       "      <th>3</th>\n",
       "      <td>Darren</td>\n",
       "      <td>Hussain</td>\n",
       "      <td>1972-09-23</td>\n",
       "      <td>Wheeler LLC</td>\n",
       "      <td>daniellebryan@thompson.org</td>\n",
       "      <td>19 Robinson meadow\\nNew Tracy\\nW22 2QG</td>\n",
       "      <td>United Kingdom</td>\n",
       "      <td>GB</td>\n",
       "      <td>03069990871</td>\n",
       "      <td>2004-02-23</td>\n",
       "      <td>6104719f-ef14-4b09-bf04-fb0c4620acb0</td>\n",
       "    </tr>\n",
       "    <tr>\n",
       "      <th>4</th>\n",
       "      <td>Garry</td>\n",
       "      <td>Stone</td>\n",
       "      <td>1952-12-20</td>\n",
       "      <td>Warner Inc</td>\n",
       "      <td>billy14@long-warren.com</td>\n",
       "      <td>3 White pass\\nHunterborough\\nNN96 4UE</td>\n",
       "      <td>United Kingdom</td>\n",
       "      <td>GB</td>\n",
       "      <td>01214960225</td>\n",
       "      <td>2006-09-01</td>\n",
       "      <td>9523a6d3-b2dd-4670-a51a-36aebc89f579</td>\n",
       "    </tr>\n",
       "  </tbody>\n",
       "</table>\n",
       "</div>"
      ],
      "text/plain": [
       "      first_name last_name date_of_birth                    company  \\\n",
       "index                                                                 \n",
       "0       Sigfried     Noack    1990-09-30         Heydrich Junitz KG   \n",
       "1            Guy     Allen    1940-12-01                    Fox Ltd   \n",
       "2          Harry  Lawrence    1995-08-02  Johnson, Jones and Harris   \n",
       "3         Darren   Hussain    1972-09-23                Wheeler LLC   \n",
       "4          Garry     Stone    1952-12-20                 Warner Inc   \n",
       "\n",
       "                      email_address  \\\n",
       "index                                 \n",
       "0                 rudi79@winkler.de   \n",
       "1      rhodesclifford@henderson.com   \n",
       "2      glen98@bryant-marshall.co.uk   \n",
       "3        daniellebryan@thompson.org   \n",
       "4           billy14@long-warren.com   \n",
       "\n",
       "                                                 address         country  \\\n",
       "index                                                                      \n",
       "0                           Zimmerstr. 1/0\\n59015 Gießen         Germany   \n",
       "1      Studio 22a\\nLynne terrace\\nMcCarthymouth\\nTF0 9GH  United Kingdom   \n",
       "2                     92 Ann drive\\nJoanborough\\nSK0 6LR  United Kingdom   \n",
       "3                 19 Robinson meadow\\nNew Tracy\\nW22 2QG  United Kingdom   \n",
       "4                  3 White pass\\nHunterborough\\nNN96 4UE  United Kingdom   \n",
       "\n",
       "      country_code   phone_number  join_date  \\\n",
       "index                                          \n",
       "0               DE   +49047905356 2018-10-10   \n",
       "1               GB    01614960674 2001-12-20   \n",
       "2               GB  +441214960340 2016-12-16   \n",
       "3               GB    03069990871 2004-02-23   \n",
       "4               GB    01214960225 2006-09-01   \n",
       "\n",
       "                                  user_uuid  \n",
       "index                                        \n",
       "0      93caf182-e4e9-4c6e-bebb-60a1a9dcf9b8  \n",
       "1      8fe96c3a-d62d-4eb5-b313-cf12d9126a49  \n",
       "2      fc461df4-b919-48b2-909e-55c95a03fe6b  \n",
       "3      6104719f-ef14-4b09-bf04-fb0c4620acb0  \n",
       "4      9523a6d3-b2dd-4670-a51a-36aebc89f579  "
      ]
     },
     "execution_count": 11,
     "metadata": {},
     "output_type": "execute_result"
    }
   ],
   "source": [
    "cleaned_user_data.head()"
   ]
  },
  {
   "cell_type": "code",
   "execution_count": 12,
   "metadata": {},
   "outputs": [
    {
     "data": {
      "text/plain": [
       "300"
      ]
     },
     "execution_count": 12,
     "metadata": {},
     "output_type": "execute_result"
    }
   ],
   "source": [
    "# Task 3, Step 7+8:\n",
    "# Create a method in your DatabaseConnector class called upload_to_db. This method will take in a Pandas DataFrame and table name to upload to as an argument.\n",
    "instance = DatabaseConnector('../sales_data_creds.yaml')\n",
    "instance.upload_to_db(cleaned_user_data, 'dim_users')"
   ]
  },
  {
   "cell_type": "markdown",
   "metadata": {},
   "source": [
    "## Task 4: Extracting users and cleaning card details"
   ]
  },
  {
   "cell_type": "code",
   "execution_count": 13,
   "metadata": {},
   "outputs": [],
   "source": [
    "# Task 4, Step 2:\n",
    "# Create a method in your DataExtractor class called retrieve_pdf_data, which takes in a link as an argument and returns a pandas DataFrame.\n",
    "\n",
    "extractor = DataExtractor()\n",
    "pdf_data = extractor.retrieve_pdf_data('https://data-handling-public.s3.eu-west-1.amazonaws.com/card_details.pdf')"
   ]
  },
  {
   "cell_type": "code",
   "execution_count": 14,
   "metadata": {},
   "outputs": [],
   "source": [
    "# Task 4, Step 3:\n",
    "# Create a method called clean_card_data in your DataCleaning class.\n",
    "cleaner = DataCleaning()\n",
    "cleaned_card_data = cleaner.clean_card_data(pdf_data)"
   ]
  },
  {
   "cell_type": "code",
   "execution_count": 15,
   "metadata": {},
   "outputs": [
    {
     "data": {
      "text/html": [
       "<div>\n",
       "<style scoped>\n",
       "    .dataframe tbody tr th:only-of-type {\n",
       "        vertical-align: middle;\n",
       "    }\n",
       "\n",
       "    .dataframe tbody tr th {\n",
       "        vertical-align: top;\n",
       "    }\n",
       "\n",
       "    .dataframe thead th {\n",
       "        text-align: right;\n",
       "    }\n",
       "</style>\n",
       "<table border=\"1\" class=\"dataframe\">\n",
       "  <thead>\n",
       "    <tr style=\"text-align: right;\">\n",
       "      <th></th>\n",
       "      <th>card_number</th>\n",
       "      <th>expiry_date</th>\n",
       "      <th>card_provider</th>\n",
       "      <th>date_payment_confirmed</th>\n",
       "    </tr>\n",
       "  </thead>\n",
       "  <tbody>\n",
       "    <tr>\n",
       "      <th>0</th>\n",
       "      <td>30060773296197</td>\n",
       "      <td>2026-09-01</td>\n",
       "      <td>Diners Club / Carte Blanche</td>\n",
       "      <td>2015-11-25</td>\n",
       "    </tr>\n",
       "    <tr>\n",
       "      <th>1</th>\n",
       "      <td>349624180933183</td>\n",
       "      <td>2023-10-01</td>\n",
       "      <td>American Express</td>\n",
       "      <td>2001-06-18</td>\n",
       "    </tr>\n",
       "    <tr>\n",
       "      <th>2</th>\n",
       "      <td>3529023891650490</td>\n",
       "      <td>2023-06-01</td>\n",
       "      <td>JCB 16 digit</td>\n",
       "      <td>2000-12-26</td>\n",
       "    </tr>\n",
       "    <tr>\n",
       "      <th>3</th>\n",
       "      <td>213142929492281</td>\n",
       "      <td>2027-09-01</td>\n",
       "      <td>JCB 15 digit</td>\n",
       "      <td>2011-02-12</td>\n",
       "    </tr>\n",
       "    <tr>\n",
       "      <th>4</th>\n",
       "      <td>502067329974</td>\n",
       "      <td>2025-10-01</td>\n",
       "      <td>Maestro</td>\n",
       "      <td>1997-03-13</td>\n",
       "    </tr>\n",
       "  </tbody>\n",
       "</table>\n",
       "</div>"
      ],
      "text/plain": [
       "        card_number expiry_date                card_provider  \\\n",
       "0    30060773296197  2026-09-01  Diners Club / Carte Blanche   \n",
       "1   349624180933183  2023-10-01             American Express   \n",
       "2  3529023891650490  2023-06-01                 JCB 16 digit   \n",
       "3   213142929492281  2027-09-01                 JCB 15 digit   \n",
       "4      502067329974  2025-10-01                      Maestro   \n",
       "\n",
       "  date_payment_confirmed  \n",
       "0             2015-11-25  \n",
       "1             2001-06-18  \n",
       "2             2000-12-26  \n",
       "3             2011-02-12  \n",
       "4             1997-03-13  "
      ]
     },
     "execution_count": 15,
     "metadata": {},
     "output_type": "execute_result"
    }
   ],
   "source": [
    "cleaned_card_data.head()"
   ]
  },
  {
   "cell_type": "code",
   "execution_count": 16,
   "metadata": {},
   "outputs": [
    {
     "data": {
      "text/plain": [
       "299"
      ]
     },
     "execution_count": 16,
     "metadata": {},
     "output_type": "execute_result"
    }
   ],
   "source": [
    "# Task 4, Step 4:\n",
    "# Upload cleaned table with your upload_to_db method to the database in a table called dim_card_details.\n",
    "instance = DatabaseConnector('../sales_data_creds.yaml')\n",
    "instance.upload_to_db(cleaned_card_data, 'dim_card_details')"
   ]
  },
  {
   "cell_type": "markdown",
   "metadata": {},
   "source": [
    "## Task 5: Extract and clean details of the store"
   ]
  },
  {
   "cell_type": "code",
   "execution_count": 4,
   "metadata": {},
   "outputs": [
    {
     "name": "stdout",
     "output_type": "stream",
     "text": [
      "Number of stores: 451\n"
     ]
    }
   ],
   "source": [
    "# Task 5, Step 1+2:\n",
    "# Create a method in your DataExtractor class called list_number_of_stores which returns the number of stores to extract. It should take in the number of stores endpoint and header dictionary as an argument.\n",
    "from src.data_extraction import header\n",
    "\n",
    "number_of_stores_endpoint = 'https://aqj7u5id95.execute-api.eu-west-1.amazonaws.com/prod/number_stores'\n",
    "extractor = DataExtractor()\n",
    "number_of_stores = extractor.list_number_of_stores(number_of_stores_endpoint,header)"
   ]
  },
  {
   "cell_type": "code",
   "execution_count": 5,
   "metadata": {},
   "outputs": [],
   "source": [
    "# Task 5, Step 3:\n",
    "# Create another method retrieve_stores_data which will take the retrieve a store endpoint as an argument and extracts all the stores from the API saving them in a pandas DataFrame.\n",
    "store_endpoint = 'https://aqj7u5id95.execute-api.eu-west-1.amazonaws.com/prod/store_details/'\n",
    "\n",
    "store_data = extractor.retrieve_stores_data(store_endpoint, number_of_stores, header)"
   ]
  },
  {
   "cell_type": "code",
   "execution_count": 6,
   "metadata": {},
   "outputs": [],
   "source": [
    "# Task 5, Step 4: \n",
    "# Create a method in the DataCleaning class called_clean_store_data which cleans the data retrieve from the API and returns a pandas DataFrame.\n",
    "cleaner = DataCleaning()\n",
    "cleaned_store_data = cleaner.clean_store_data(store_data)"
   ]
  },
  {
   "cell_type": "code",
   "execution_count": 7,
   "metadata": {},
   "outputs": [
    {
     "data": {
      "text/html": [
       "<div>\n",
       "<style scoped>\n",
       "    .dataframe tbody tr th:only-of-type {\n",
       "        vertical-align: middle;\n",
       "    }\n",
       "\n",
       "    .dataframe tbody tr th {\n",
       "        vertical-align: top;\n",
       "    }\n",
       "\n",
       "    .dataframe thead th {\n",
       "        text-align: right;\n",
       "    }\n",
       "</style>\n",
       "<table border=\"1\" class=\"dataframe\">\n",
       "  <thead>\n",
       "    <tr style=\"text-align: right;\">\n",
       "      <th></th>\n",
       "      <th>address</th>\n",
       "      <th>longitude</th>\n",
       "      <th>locality</th>\n",
       "      <th>store_code</th>\n",
       "      <th>staff_numbers</th>\n",
       "      <th>opening_date</th>\n",
       "      <th>store_type</th>\n",
       "      <th>latitude</th>\n",
       "      <th>country_code</th>\n",
       "      <th>continent</th>\n",
       "    </tr>\n",
       "  </thead>\n",
       "  <tbody>\n",
       "    <tr>\n",
       "      <th>1</th>\n",
       "      <td>Flat 72W\\nSally isle\\nEast Deantown\\nE7B 8EB, ...</td>\n",
       "      <td>51.62907</td>\n",
       "      <td>High Wycombe</td>\n",
       "      <td>HI-9B97EE4E</td>\n",
       "      <td>34</td>\n",
       "      <td>1996-10-25</td>\n",
       "      <td>Local</td>\n",
       "      <td>-0.74934</td>\n",
       "      <td>GB</td>\n",
       "      <td>Europe</td>\n",
       "    </tr>\n",
       "    <tr>\n",
       "      <th>2</th>\n",
       "      <td>Heckerstraße 4/5\\n50491 Säckingen, Landshut</td>\n",
       "      <td>48.52961</td>\n",
       "      <td>Landshut</td>\n",
       "      <td>LA-0772C7B9</td>\n",
       "      <td>92</td>\n",
       "      <td>2013-04-12</td>\n",
       "      <td>Super Store</td>\n",
       "      <td>12.16179</td>\n",
       "      <td>DE</td>\n",
       "      <td>Europe</td>\n",
       "    </tr>\n",
       "    <tr>\n",
       "      <th>3</th>\n",
       "      <td>5 Harrison tunnel\\nSouth Lydia\\nWC9 2BE, Westbury</td>\n",
       "      <td>51.26000</td>\n",
       "      <td>Westbury</td>\n",
       "      <td>WE-1DE82CEE</td>\n",
       "      <td>69</td>\n",
       "      <td>2014-01-02</td>\n",
       "      <td>Super Store</td>\n",
       "      <td>-2.18750</td>\n",
       "      <td>GB</td>\n",
       "      <td>Europe</td>\n",
       "    </tr>\n",
       "    <tr>\n",
       "      <th>4</th>\n",
       "      <td>Studio 6\\nStephen landing\\nSouth Simon\\nB77 2W...</td>\n",
       "      <td>53.02330</td>\n",
       "      <td>Belper</td>\n",
       "      <td>BE-18074576</td>\n",
       "      <td>35</td>\n",
       "      <td>2019-09-09</td>\n",
       "      <td>Local</td>\n",
       "      <td>-1.48119</td>\n",
       "      <td>GB</td>\n",
       "      <td>Europe</td>\n",
       "    </tr>\n",
       "    <tr>\n",
       "      <th>5</th>\n",
       "      <td>Flat 92u\\nChristian harbors\\nPort Charlotte\\nN...</td>\n",
       "      <td>53.38333</td>\n",
       "      <td>Gainsborough</td>\n",
       "      <td>GA-CAD01AC2</td>\n",
       "      <td>36</td>\n",
       "      <td>1995-05-15</td>\n",
       "      <td>Local</td>\n",
       "      <td>-0.76667</td>\n",
       "      <td>GB</td>\n",
       "      <td>Europe</td>\n",
       "    </tr>\n",
       "  </tbody>\n",
       "</table>\n",
       "</div>"
      ],
      "text/plain": [
       "                                             address  longitude      locality  \\\n",
       "1  Flat 72W\\nSally isle\\nEast Deantown\\nE7B 8EB, ...   51.62907  High Wycombe   \n",
       "2        Heckerstraße 4/5\\n50491 Säckingen, Landshut   48.52961      Landshut   \n",
       "3  5 Harrison tunnel\\nSouth Lydia\\nWC9 2BE, Westbury   51.26000      Westbury   \n",
       "4  Studio 6\\nStephen landing\\nSouth Simon\\nB77 2W...   53.02330        Belper   \n",
       "5  Flat 92u\\nChristian harbors\\nPort Charlotte\\nN...   53.38333  Gainsborough   \n",
       "\n",
       "    store_code staff_numbers opening_date   store_type  latitude country_code  \\\n",
       "1  HI-9B97EE4E            34   1996-10-25        Local  -0.74934           GB   \n",
       "2  LA-0772C7B9            92   2013-04-12  Super Store  12.16179           DE   \n",
       "3  WE-1DE82CEE            69   2014-01-02  Super Store  -2.18750           GB   \n",
       "4  BE-18074576            35   2019-09-09        Local  -1.48119           GB   \n",
       "5  GA-CAD01AC2            36   1995-05-15        Local  -0.76667           GB   \n",
       "\n",
       "  continent  \n",
       "1    Europe  \n",
       "2    Europe  \n",
       "3    Europe  \n",
       "4    Europe  \n",
       "5    Europe  "
      ]
     },
     "execution_count": 7,
     "metadata": {},
     "output_type": "execute_result"
    }
   ],
   "source": [
    "cleaned_store_data.head()"
   ]
  },
  {
   "cell_type": "code",
   "execution_count": 8,
   "metadata": {},
   "outputs": [
    {
     "data": {
      "text/plain": [
       "440"
      ]
     },
     "execution_count": 8,
     "metadata": {},
     "output_type": "execute_result"
    }
   ],
   "source": [
    "# Task 5, Step 5: \n",
    "# Upload dataframe using upload_to_db to dim_store_details\n",
    "instance = DatabaseConnector('../sales_data_creds.yaml')\n",
    "instance.upload_to_db(cleaned_store_data,'dim_store_details')"
   ]
  },
  {
   "cell_type": "markdown",
   "metadata": {},
   "source": [
    "## Task 6: Extract and clean the product details"
   ]
  },
  {
   "cell_type": "code",
   "execution_count": 36,
   "metadata": {},
   "outputs": [],
   "source": [
    "# Task 6, Step 1: Extract data from s3 bucket into pd dataframe\n",
    "extractor = DataExtractor()\n",
    "products_data = extractor.extract_from_s3('s3://data-handling-public/products.csv')"
   ]
  },
  {
   "cell_type": "code",
   "execution_count": 37,
   "metadata": {},
   "outputs": [
    {
     "data": {
      "text/html": [
       "<div>\n",
       "<style scoped>\n",
       "    .dataframe tbody tr th:only-of-type {\n",
       "        vertical-align: middle;\n",
       "    }\n",
       "\n",
       "    .dataframe tbody tr th {\n",
       "        vertical-align: top;\n",
       "    }\n",
       "\n",
       "    .dataframe thead th {\n",
       "        text-align: right;\n",
       "    }\n",
       "</style>\n",
       "<table border=\"1\" class=\"dataframe\">\n",
       "  <thead>\n",
       "    <tr style=\"text-align: right;\">\n",
       "      <th></th>\n",
       "      <th>product_name</th>\n",
       "      <th>product_price</th>\n",
       "      <th>weight</th>\n",
       "      <th>category</th>\n",
       "      <th>EAN</th>\n",
       "      <th>date_added</th>\n",
       "      <th>uuid</th>\n",
       "      <th>removed</th>\n",
       "      <th>product_code</th>\n",
       "    </tr>\n",
       "  </thead>\n",
       "  <tbody>\n",
       "    <tr>\n",
       "      <th>0</th>\n",
       "      <td>FurReal Dazzlin' Dimples My Playful Dolphin</td>\n",
       "      <td>£39.99</td>\n",
       "      <td>1.6kg</td>\n",
       "      <td>toys-and-games</td>\n",
       "      <td>7425710935115</td>\n",
       "      <td>2005-12-02</td>\n",
       "      <td>83dc0a69-f96f-4c34-bcb7-928acae19a94</td>\n",
       "      <td>Still_avaliable</td>\n",
       "      <td>R7-3126933h</td>\n",
       "    </tr>\n",
       "    <tr>\n",
       "      <th>1</th>\n",
       "      <td>Tiffany's World Day Out At The Park</td>\n",
       "      <td>£12.99</td>\n",
       "      <td>0.48kg</td>\n",
       "      <td>toys-and-games</td>\n",
       "      <td>487128731892</td>\n",
       "      <td>2006-01-09</td>\n",
       "      <td>712254d7-aea7-4310-aff8-8bcdd0aec7ff</td>\n",
       "      <td>Still_avaliable</td>\n",
       "      <td>C2-7287916l</td>\n",
       "    </tr>\n",
       "    <tr>\n",
       "      <th>2</th>\n",
       "      <td>Tiffany's World Pups Picnic Playset</td>\n",
       "      <td>£7.00</td>\n",
       "      <td>590g</td>\n",
       "      <td>toys-and-games</td>\n",
       "      <td>1945816904649</td>\n",
       "      <td>1997-03-29</td>\n",
       "      <td>b089ef6f-b628-4e37-811d-fffe0102ba64</td>\n",
       "      <td>Still_avaliable</td>\n",
       "      <td>S7-1175877v</td>\n",
       "    </tr>\n",
       "    <tr>\n",
       "      <th>3</th>\n",
       "      <td>Tiffany's World Wildlife Park Adventures</td>\n",
       "      <td>£12.99</td>\n",
       "      <td>540g</td>\n",
       "      <td>toys-and-games</td>\n",
       "      <td>1569790890899</td>\n",
       "      <td>2013-03-20</td>\n",
       "      <td>d55de422-8b98-47d6-9991-e4bc4c5c0cb0</td>\n",
       "      <td>Removed</td>\n",
       "      <td>D8-8421505n</td>\n",
       "    </tr>\n",
       "    <tr>\n",
       "      <th>4</th>\n",
       "      <td>Cosatto Cosy Dolls Pram</td>\n",
       "      <td>£30.00</td>\n",
       "      <td>1.91kg</td>\n",
       "      <td>toys-and-games</td>\n",
       "      <td>7142740213920</td>\n",
       "      <td>2007-12-23</td>\n",
       "      <td>7945b657-cb02-4cc5-96cf-f65ed0a8f235</td>\n",
       "      <td>Still_avaliable</td>\n",
       "      <td>B6-2596063a</td>\n",
       "    </tr>\n",
       "  </tbody>\n",
       "</table>\n",
       "</div>"
      ],
      "text/plain": [
       "                                  product_name product_price  weight  \\\n",
       "0  FurReal Dazzlin' Dimples My Playful Dolphin        £39.99   1.6kg   \n",
       "1          Tiffany's World Day Out At The Park        £12.99  0.48kg   \n",
       "2          Tiffany's World Pups Picnic Playset         £7.00    590g   \n",
       "3     Tiffany's World Wildlife Park Adventures        £12.99    540g   \n",
       "4                      Cosatto Cosy Dolls Pram        £30.00  1.91kg   \n",
       "\n",
       "         category            EAN  date_added  \\\n",
       "0  toys-and-games  7425710935115  2005-12-02   \n",
       "1  toys-and-games   487128731892  2006-01-09   \n",
       "2  toys-and-games  1945816904649  1997-03-29   \n",
       "3  toys-and-games  1569790890899  2013-03-20   \n",
       "4  toys-and-games  7142740213920  2007-12-23   \n",
       "\n",
       "                                   uuid          removed product_code  \n",
       "0  83dc0a69-f96f-4c34-bcb7-928acae19a94  Still_avaliable  R7-3126933h  \n",
       "1  712254d7-aea7-4310-aff8-8bcdd0aec7ff  Still_avaliable  C2-7287916l  \n",
       "2  b089ef6f-b628-4e37-811d-fffe0102ba64  Still_avaliable  S7-1175877v  \n",
       "3  d55de422-8b98-47d6-9991-e4bc4c5c0cb0          Removed  D8-8421505n  \n",
       "4  7945b657-cb02-4cc5-96cf-f65ed0a8f235  Still_avaliable  B6-2596063a  "
      ]
     },
     "execution_count": 37,
     "metadata": {},
     "output_type": "execute_result"
    }
   ],
   "source": [
    "products_data.head()"
   ]
  },
  {
   "cell_type": "code",
   "execution_count": 11,
   "metadata": {},
   "outputs": [],
   "source": [
    "# Step 2: Convert product weights to correct units\n",
    "cleaner = DataCleaning()\n",
    "converted_weights_products_data = cleaner.convert_product_weights(products_data)"
   ]
  },
  {
   "cell_type": "code",
   "execution_count": 38,
   "metadata": {},
   "outputs": [
    {
     "data": {
      "text/html": [
       "<div>\n",
       "<style scoped>\n",
       "    .dataframe tbody tr th:only-of-type {\n",
       "        vertical-align: middle;\n",
       "    }\n",
       "\n",
       "    .dataframe tbody tr th {\n",
       "        vertical-align: top;\n",
       "    }\n",
       "\n",
       "    .dataframe thead th {\n",
       "        text-align: right;\n",
       "    }\n",
       "</style>\n",
       "<table border=\"1\" class=\"dataframe\">\n",
       "  <thead>\n",
       "    <tr style=\"text-align: right;\">\n",
       "      <th></th>\n",
       "      <th>product_name</th>\n",
       "      <th>product_price</th>\n",
       "      <th>weight</th>\n",
       "      <th>category</th>\n",
       "      <th>EAN</th>\n",
       "      <th>date_added</th>\n",
       "      <th>uuid</th>\n",
       "      <th>removed</th>\n",
       "      <th>product_code</th>\n",
       "    </tr>\n",
       "  </thead>\n",
       "  <tbody>\n",
       "    <tr>\n",
       "      <th>0</th>\n",
       "      <td>FurReal Dazzlin' Dimples My Playful Dolphin</td>\n",
       "      <td>39.99</td>\n",
       "      <td>NaN</td>\n",
       "      <td>toys-and-games</td>\n",
       "      <td>7425710935115</td>\n",
       "      <td>2005-12-02</td>\n",
       "      <td>83dc0a69-f96f-4c34-bcb7-928acae19a94</td>\n",
       "      <td>Still_avaliable</td>\n",
       "      <td>R7-3126933h</td>\n",
       "    </tr>\n",
       "    <tr>\n",
       "      <th>1</th>\n",
       "      <td>Tiffany's World Day Out At The Park</td>\n",
       "      <td>12.99</td>\n",
       "      <td>0.48</td>\n",
       "      <td>toys-and-games</td>\n",
       "      <td>&lt;NA&gt;</td>\n",
       "      <td>2006-01-09</td>\n",
       "      <td>712254d7-aea7-4310-aff8-8bcdd0aec7ff</td>\n",
       "      <td>Still_avaliable</td>\n",
       "      <td>C2-7287916l</td>\n",
       "    </tr>\n",
       "    <tr>\n",
       "      <th>2</th>\n",
       "      <td>Tiffany's World Pups Picnic Playset</td>\n",
       "      <td>7.00</td>\n",
       "      <td>0.59</td>\n",
       "      <td>toys-and-games</td>\n",
       "      <td>1945816904649</td>\n",
       "      <td>1997-03-29</td>\n",
       "      <td>b089ef6f-b628-4e37-811d-fffe0102ba64</td>\n",
       "      <td>Still_avaliable</td>\n",
       "      <td>S7-1175877v</td>\n",
       "    </tr>\n",
       "    <tr>\n",
       "      <th>3</th>\n",
       "      <td>Tiffany's World Wildlife Park Adventures</td>\n",
       "      <td>12.99</td>\n",
       "      <td>0.54</td>\n",
       "      <td>toys-and-games</td>\n",
       "      <td>1569790890899</td>\n",
       "      <td>2013-03-20</td>\n",
       "      <td>d55de422-8b98-47d6-9991-e4bc4c5c0cb0</td>\n",
       "      <td>Removed</td>\n",
       "      <td>D8-8421505n</td>\n",
       "    </tr>\n",
       "    <tr>\n",
       "      <th>4</th>\n",
       "      <td>Cosatto Cosy Dolls Pram</td>\n",
       "      <td>30.00</td>\n",
       "      <td>1.91</td>\n",
       "      <td>toys-and-games</td>\n",
       "      <td>7142740213920</td>\n",
       "      <td>2007-12-23</td>\n",
       "      <td>7945b657-cb02-4cc5-96cf-f65ed0a8f235</td>\n",
       "      <td>Still_avaliable</td>\n",
       "      <td>B6-2596063a</td>\n",
       "    </tr>\n",
       "  </tbody>\n",
       "</table>\n",
       "</div>"
      ],
      "text/plain": [
       "                                  product_name  product_price  weight  \\\n",
       "0  FurReal Dazzlin' Dimples My Playful Dolphin          39.99     NaN   \n",
       "1          Tiffany's World Day Out At The Park          12.99    0.48   \n",
       "2          Tiffany's World Pups Picnic Playset           7.00    0.59   \n",
       "3     Tiffany's World Wildlife Park Adventures          12.99    0.54   \n",
       "4                      Cosatto Cosy Dolls Pram          30.00    1.91   \n",
       "\n",
       "         category            EAN date_added  \\\n",
       "0  toys-and-games  7425710935115 2005-12-02   \n",
       "1  toys-and-games           <NA> 2006-01-09   \n",
       "2  toys-and-games  1945816904649 1997-03-29   \n",
       "3  toys-and-games  1569790890899 2013-03-20   \n",
       "4  toys-and-games  7142740213920 2007-12-23   \n",
       "\n",
       "                                   uuid          removed product_code  \n",
       "0  83dc0a69-f96f-4c34-bcb7-928acae19a94  Still_avaliable  R7-3126933h  \n",
       "1  712254d7-aea7-4310-aff8-8bcdd0aec7ff  Still_avaliable  C2-7287916l  \n",
       "2  b089ef6f-b628-4e37-811d-fffe0102ba64  Still_avaliable  S7-1175877v  \n",
       "3  d55de422-8b98-47d6-9991-e4bc4c5c0cb0          Removed  D8-8421505n  \n",
       "4  7945b657-cb02-4cc5-96cf-f65ed0a8f235  Still_avaliable  B6-2596063a  "
      ]
     },
     "execution_count": 38,
     "metadata": {},
     "output_type": "execute_result"
    }
   ],
   "source": [
    "# Step 3: Clean whole dataframe\n",
    "cleaned_products_data = cleaner.clean_products_data(products_data)\n",
    "cleaned_products_data.head()"
   ]
  },
  {
   "cell_type": "code",
   "execution_count": 39,
   "metadata": {},
   "outputs": [
    {
     "data": {
      "text/plain": [
       "853"
      ]
     },
     "execution_count": 39,
     "metadata": {},
     "output_type": "execute_result"
    }
   ],
   "source": [
    "# Step 4: Upload to SQL\n",
    "instance = DatabaseConnector('../sales_data_creds.yaml')\n",
    "instance.upload_to_db(cleaned_products_data,'dim_products')"
   ]
  },
  {
   "cell_type": "markdown",
   "metadata": {},
   "source": [
    "## Task 7: Retrieve and clean the orders table."
   ]
  },
  {
   "cell_type": "code",
   "execution_count": 40,
   "metadata": {},
   "outputs": [
    {
     "data": {
      "text/plain": [
       "['legacy_store_details', 'legacy_users', 'orders_table']"
      ]
     },
     "execution_count": 40,
     "metadata": {},
     "output_type": "execute_result"
    }
   ],
   "source": [
    "# Step 1: Find table containing information on product orders.\n",
    "connector = DatabaseConnector('../db_creds.yaml')\n",
    "connector.list_db_tables()"
   ]
  },
  {
   "cell_type": "code",
   "execution_count": 49,
   "metadata": {},
   "outputs": [],
   "source": [
    "# Step 2: Read orders_table file\n",
    "extractor = DataExtractor()\n",
    "orders_table_data = extractor.read_rds_table('orders_table')"
   ]
  },
  {
   "cell_type": "code",
   "execution_count": 50,
   "metadata": {},
   "outputs": [
    {
     "data": {
      "text/html": [
       "<div>\n",
       "<style scoped>\n",
       "    .dataframe tbody tr th:only-of-type {\n",
       "        vertical-align: middle;\n",
       "    }\n",
       "\n",
       "    .dataframe tbody tr th {\n",
       "        vertical-align: top;\n",
       "    }\n",
       "\n",
       "    .dataframe thead th {\n",
       "        text-align: right;\n",
       "    }\n",
       "</style>\n",
       "<table border=\"1\" class=\"dataframe\">\n",
       "  <thead>\n",
       "    <tr style=\"text-align: right;\">\n",
       "      <th></th>\n",
       "      <th>level_0</th>\n",
       "      <th>date_uuid</th>\n",
       "      <th>first_name</th>\n",
       "      <th>last_name</th>\n",
       "      <th>user_uuid</th>\n",
       "      <th>card_number</th>\n",
       "      <th>store_code</th>\n",
       "      <th>product_code</th>\n",
       "      <th>1</th>\n",
       "      <th>product_quantity</th>\n",
       "    </tr>\n",
       "    <tr>\n",
       "      <th>index</th>\n",
       "      <th></th>\n",
       "      <th></th>\n",
       "      <th></th>\n",
       "      <th></th>\n",
       "      <th></th>\n",
       "      <th></th>\n",
       "      <th></th>\n",
       "      <th></th>\n",
       "      <th></th>\n",
       "      <th></th>\n",
       "    </tr>\n",
       "  </thead>\n",
       "  <tbody>\n",
       "    <tr>\n",
       "      <th>0</th>\n",
       "      <td>0</td>\n",
       "      <td>9476f17e-5d6a-4117-874d-9cdb38ca1fa6</td>\n",
       "      <td>None</td>\n",
       "      <td>None</td>\n",
       "      <td>93caf182-e4e9-4c6e-bebb-60a1a9dcf9b8</td>\n",
       "      <td>30060773296197</td>\n",
       "      <td>BL-8387506C</td>\n",
       "      <td>R7-3126933h</td>\n",
       "      <td>NaN</td>\n",
       "      <td>3</td>\n",
       "    </tr>\n",
       "    <tr>\n",
       "      <th>1</th>\n",
       "      <td>1</td>\n",
       "      <td>0423a395-a04d-4e4a-bd0f-d237cbd5a295</td>\n",
       "      <td>None</td>\n",
       "      <td>None</td>\n",
       "      <td>8fe96c3a-d62d-4eb5-b313-cf12d9126a49</td>\n",
       "      <td>349624180933183</td>\n",
       "      <td>WEB-1388012W</td>\n",
       "      <td>C2-7287916l</td>\n",
       "      <td>NaN</td>\n",
       "      <td>2</td>\n",
       "    </tr>\n",
       "    <tr>\n",
       "      <th>2</th>\n",
       "      <td>2</td>\n",
       "      <td>65187294-bb16-4519-adc0-787bbe423970</td>\n",
       "      <td>None</td>\n",
       "      <td>None</td>\n",
       "      <td>fc461df4-b919-48b2-909e-55c95a03fe6b</td>\n",
       "      <td>3529023891650490</td>\n",
       "      <td>CH-01D85C8D</td>\n",
       "      <td>S7-1175877v</td>\n",
       "      <td>NaN</td>\n",
       "      <td>2</td>\n",
       "    </tr>\n",
       "    <tr>\n",
       "      <th>3</th>\n",
       "      <td>3</td>\n",
       "      <td>579e21f7-13cb-436b-83ad-33687a4eb337</td>\n",
       "      <td>None</td>\n",
       "      <td>None</td>\n",
       "      <td>6104719f-ef14-4b09-bf04-fb0c4620acb0</td>\n",
       "      <td>213142929492281</td>\n",
       "      <td>CL-C183BE4B</td>\n",
       "      <td>D8-8421505n</td>\n",
       "      <td>NaN</td>\n",
       "      <td>2</td>\n",
       "    </tr>\n",
       "    <tr>\n",
       "      <th>4</th>\n",
       "      <td>4</td>\n",
       "      <td>00ab86c3-2039-4674-b9c1-adbcbbf525bd</td>\n",
       "      <td>None</td>\n",
       "      <td>None</td>\n",
       "      <td>9523a6d3-b2dd-4670-a51a-36aebc89f579</td>\n",
       "      <td>502067329974</td>\n",
       "      <td>SO-B5B9CB3B</td>\n",
       "      <td>B6-2596063a</td>\n",
       "      <td>NaN</td>\n",
       "      <td>2</td>\n",
       "    </tr>\n",
       "  </tbody>\n",
       "</table>\n",
       "</div>"
      ],
      "text/plain": [
       "       level_0                             date_uuid first_name last_name  \\\n",
       "index                                                                       \n",
       "0            0  9476f17e-5d6a-4117-874d-9cdb38ca1fa6       None      None   \n",
       "1            1  0423a395-a04d-4e4a-bd0f-d237cbd5a295       None      None   \n",
       "2            2  65187294-bb16-4519-adc0-787bbe423970       None      None   \n",
       "3            3  579e21f7-13cb-436b-83ad-33687a4eb337       None      None   \n",
       "4            4  00ab86c3-2039-4674-b9c1-adbcbbf525bd       None      None   \n",
       "\n",
       "                                  user_uuid       card_number    store_code  \\\n",
       "index                                                                         \n",
       "0      93caf182-e4e9-4c6e-bebb-60a1a9dcf9b8    30060773296197   BL-8387506C   \n",
       "1      8fe96c3a-d62d-4eb5-b313-cf12d9126a49   349624180933183  WEB-1388012W   \n",
       "2      fc461df4-b919-48b2-909e-55c95a03fe6b  3529023891650490   CH-01D85C8D   \n",
       "3      6104719f-ef14-4b09-bf04-fb0c4620acb0   213142929492281   CL-C183BE4B   \n",
       "4      9523a6d3-b2dd-4670-a51a-36aebc89f579      502067329974   SO-B5B9CB3B   \n",
       "\n",
       "      product_code   1  product_quantity  \n",
       "index                                     \n",
       "0      R7-3126933h NaN                 3  \n",
       "1      C2-7287916l NaN                 2  \n",
       "2      S7-1175877v NaN                 2  \n",
       "3      D8-8421505n NaN                 2  \n",
       "4      B6-2596063a NaN                 2  "
      ]
     },
     "execution_count": 50,
     "metadata": {},
     "output_type": "execute_result"
    }
   ],
   "source": [
    "orders_table_data.head()"
   ]
  },
  {
   "cell_type": "code",
   "execution_count": 51,
   "metadata": {},
   "outputs": [
    {
     "data": {
      "text/plain": [
       "120123"
      ]
     },
     "execution_count": 51,
     "metadata": {},
     "output_type": "execute_result"
    }
   ],
   "source": [
    "orders_table_data.shape[0]"
   ]
  },
  {
   "cell_type": "code",
   "execution_count": 52,
   "metadata": {},
   "outputs": [
    {
     "data": {
      "text/plain": [
       "120123"
      ]
     },
     "execution_count": 52,
     "metadata": {},
     "output_type": "execute_result"
    }
   ],
   "source": [
    "orders_table_data.drop_duplicates(inplace=True)\n",
    "orders_table_data.shape[0]"
   ]
  },
  {
   "cell_type": "code",
   "execution_count": 53,
   "metadata": {},
   "outputs": [
    {
     "data": {
      "text/plain": [
       "0"
      ]
     },
     "execution_count": 53,
     "metadata": {},
     "output_type": "execute_result"
    }
   ],
   "source": [
    "orders_table_data.dropna(inplace=True)\n",
    "orders_table_data.shape[0]"
   ]
  },
  {
   "cell_type": "code",
   "execution_count": 47,
   "metadata": {},
   "outputs": [
    {
     "data": {
      "text/plain": [
       "0"
      ]
     },
     "execution_count": 47,
     "metadata": {},
     "output_type": "execute_result"
    }
   ],
   "source": [
    "p = orders_table_data\n",
    "p.shape[0]"
   ]
  },
  {
   "cell_type": "code",
   "execution_count": null,
   "metadata": {},
   "outputs": [],
   "source": [
    "# Step 3: Clean dataframe\n",
    "cleaned_orders_data = DataCleaning().clean_orders_data(orders_table_data)"
   ]
  },
  {
   "cell_type": "code",
   "execution_count": null,
   "metadata": {},
   "outputs": [],
   "source": [
    "# Step 4: Upload to SQL\n",
    "connector = DatabaseConnector('sales_data_creds.yaml')\n",
    "connector.upload_to_db(cleaned_orders_data, 'orders_table')"
   ]
  },
  {
   "cell_type": "code",
   "execution_count": null,
   "metadata": {},
   "outputs": [],
   "source": [
    "# Task 8\n",
    "import pandas as pd\n",
    "path = 'https://data-handling-public.s3.eu-west-1.amazonaws.com/date_details.json'\n",
    "\n",
    "date_details_data = pd.read_json(path)\n",
    "date_details_data.head()"
   ]
  },
  {
   "cell_type": "code",
   "execution_count": null,
   "metadata": {},
   "outputs": [],
   "source": [
    "cleaned_date_details = DataCleaning(date_details_data).clean_date_data(date_details_data)"
   ]
  },
  {
   "cell_type": "code",
   "execution_count": null,
   "metadata": {},
   "outputs": [],
   "source": [
    "connector = DatabaseConnector('sales_data_creds.yaml')\n",
    "connector.upload_to_db(cleaned_date_details, 'dim_date_times')"
   ]
  }
 ],
 "metadata": {
  "kernelspec": {
   "display_name": "base",
   "language": "python",
   "name": "python3"
  },
  "language_info": {
   "codemirror_mode": {
    "name": "ipython",
    "version": 3
   },
   "file_extension": ".py",
   "mimetype": "text/x-python",
   "name": "python",
   "nbconvert_exporter": "python",
   "pygments_lexer": "ipython3",
   "version": "3.11.4"
  },
  "orig_nbformat": 4
 },
 "nbformat": 4,
 "nbformat_minor": 2
}
