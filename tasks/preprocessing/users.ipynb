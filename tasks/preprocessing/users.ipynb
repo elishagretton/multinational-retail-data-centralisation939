{
 "cells": [
  {
   "cell_type": "code",
   "execution_count": 1,
   "metadata": {},
   "outputs": [],
   "source": [
    "import sys\n",
    "sys.path.append('/Users/apple/Desktop/AiCore Bootcamp/multinational-retail-data-centralisation939')"
   ]
  },
  {
   "cell_type": "code",
   "execution_count": 2,
   "metadata": {},
   "outputs": [],
   "source": [
    "from src.database_utils import DatabaseConnector\n",
    "from src.data_cleaning import DataCleaning\n",
    "from src.data_extraction import DataExtractor\n",
    "from src.data_extraction import header\n",
    "import numpy as np\n",
    "import pandas as pd"
   ]
  },
  {
   "cell_type": "code",
   "execution_count": 3,
   "metadata": {},
   "outputs": [],
   "source": [
    "# Read the credentials yaml file and return a dictionary of the credentials.\n",
    "instance = DatabaseConnector('../../db_creds.yaml')\n",
    "db_creds = instance.read_db_creds()"
   ]
  },
  {
   "cell_type": "code",
   "execution_count": 4,
   "metadata": {},
   "outputs": [],
   "source": [
    "# Read the credentials from the return of read_db_creds and initialise and return an sqlalchemy database engine.\n",
    "db_engine = instance.init_db_engine()"
   ]
  },
  {
   "cell_type": "code",
   "execution_count": 5,
   "metadata": {},
   "outputs": [
    {
     "name": "stdout",
     "output_type": "stream",
     "text": [
      "['legacy_store_details', 'legacy_users', 'orders_table']\n"
     ]
    }
   ],
   "source": [
    "# Create a method list_db_tables to list all the tables in the database so you know which tables you can extract data from.\n",
    "table_names = instance.list_db_tables()\n",
    "print(table_names)"
   ]
  },
  {
   "cell_type": "code",
   "execution_count": 6,
   "metadata": {},
   "outputs": [
    {
     "data": {
      "text/html": [
       "<div>\n",
       "<style scoped>\n",
       "    .dataframe tbody tr th:only-of-type {\n",
       "        vertical-align: middle;\n",
       "    }\n",
       "\n",
       "    .dataframe tbody tr th {\n",
       "        vertical-align: top;\n",
       "    }\n",
       "\n",
       "    .dataframe thead th {\n",
       "        text-align: right;\n",
       "    }\n",
       "</style>\n",
       "<table border=\"1\" class=\"dataframe\">\n",
       "  <thead>\n",
       "    <tr style=\"text-align: right;\">\n",
       "      <th></th>\n",
       "      <th>first_name</th>\n",
       "      <th>last_name</th>\n",
       "      <th>date_of_birth</th>\n",
       "      <th>company</th>\n",
       "      <th>email_address</th>\n",
       "      <th>address</th>\n",
       "      <th>country</th>\n",
       "      <th>country_code</th>\n",
       "      <th>phone_number</th>\n",
       "      <th>join_date</th>\n",
       "      <th>user_uuid</th>\n",
       "    </tr>\n",
       "    <tr>\n",
       "      <th>index</th>\n",
       "      <th></th>\n",
       "      <th></th>\n",
       "      <th></th>\n",
       "      <th></th>\n",
       "      <th></th>\n",
       "      <th></th>\n",
       "      <th></th>\n",
       "      <th></th>\n",
       "      <th></th>\n",
       "      <th></th>\n",
       "      <th></th>\n",
       "    </tr>\n",
       "  </thead>\n",
       "  <tbody>\n",
       "    <tr>\n",
       "      <th>0</th>\n",
       "      <td>Sigfried</td>\n",
       "      <td>Noack</td>\n",
       "      <td>1990-09-30</td>\n",
       "      <td>Heydrich Junitz KG</td>\n",
       "      <td>rudi79@winkler.de</td>\n",
       "      <td>Zimmerstr. 1/0\\n59015 Gießen</td>\n",
       "      <td>Germany</td>\n",
       "      <td>DE</td>\n",
       "      <td>+49(0) 047905356</td>\n",
       "      <td>2018-10-10</td>\n",
       "      <td>93caf182-e4e9-4c6e-bebb-60a1a9dcf9b8</td>\n",
       "    </tr>\n",
       "    <tr>\n",
       "      <th>1</th>\n",
       "      <td>Guy</td>\n",
       "      <td>Allen</td>\n",
       "      <td>1940-12-01</td>\n",
       "      <td>Fox Ltd</td>\n",
       "      <td>rhodesclifford@henderson.com</td>\n",
       "      <td>Studio 22a\\nLynne terrace\\nMcCarthymouth\\nTF0 9GH</td>\n",
       "      <td>United Kingdom</td>\n",
       "      <td>GB</td>\n",
       "      <td>(0161) 496 0674</td>\n",
       "      <td>2001-12-20</td>\n",
       "      <td>8fe96c3a-d62d-4eb5-b313-cf12d9126a49</td>\n",
       "    </tr>\n",
       "    <tr>\n",
       "      <th>2</th>\n",
       "      <td>Harry</td>\n",
       "      <td>Lawrence</td>\n",
       "      <td>1995-08-02</td>\n",
       "      <td>Johnson, Jones and Harris</td>\n",
       "      <td>glen98@bryant-marshall.co.uk</td>\n",
       "      <td>92 Ann drive\\nJoanborough\\nSK0 6LR</td>\n",
       "      <td>United Kingdom</td>\n",
       "      <td>GB</td>\n",
       "      <td>+44(0)121 4960340</td>\n",
       "      <td>2016-12-16</td>\n",
       "      <td>fc461df4-b919-48b2-909e-55c95a03fe6b</td>\n",
       "    </tr>\n",
       "    <tr>\n",
       "      <th>3</th>\n",
       "      <td>Darren</td>\n",
       "      <td>Hussain</td>\n",
       "      <td>1972-09-23</td>\n",
       "      <td>Wheeler LLC</td>\n",
       "      <td>daniellebryan@thompson.org</td>\n",
       "      <td>19 Robinson meadow\\nNew Tracy\\nW22 2QG</td>\n",
       "      <td>United Kingdom</td>\n",
       "      <td>GB</td>\n",
       "      <td>(0306) 999 0871</td>\n",
       "      <td>2004-02-23</td>\n",
       "      <td>6104719f-ef14-4b09-bf04-fb0c4620acb0</td>\n",
       "    </tr>\n",
       "    <tr>\n",
       "      <th>4</th>\n",
       "      <td>Garry</td>\n",
       "      <td>Stone</td>\n",
       "      <td>1952-12-20</td>\n",
       "      <td>Warner Inc</td>\n",
       "      <td>billy14@long-warren.com</td>\n",
       "      <td>3 White pass\\nHunterborough\\nNN96 4UE</td>\n",
       "      <td>United Kingdom</td>\n",
       "      <td>GB</td>\n",
       "      <td>0121 496 0225</td>\n",
       "      <td>2006-09-01</td>\n",
       "      <td>9523a6d3-b2dd-4670-a51a-36aebc89f579</td>\n",
       "    </tr>\n",
       "  </tbody>\n",
       "</table>\n",
       "</div>"
      ],
      "text/plain": [
       "      first_name last_name date_of_birth                    company  \\\n",
       "index                                                                 \n",
       "0       Sigfried     Noack    1990-09-30         Heydrich Junitz KG   \n",
       "1            Guy     Allen    1940-12-01                    Fox Ltd   \n",
       "2          Harry  Lawrence    1995-08-02  Johnson, Jones and Harris   \n",
       "3         Darren   Hussain    1972-09-23                Wheeler LLC   \n",
       "4          Garry     Stone    1952-12-20                 Warner Inc   \n",
       "\n",
       "                      email_address  \\\n",
       "index                                 \n",
       "0                 rudi79@winkler.de   \n",
       "1      rhodesclifford@henderson.com   \n",
       "2      glen98@bryant-marshall.co.uk   \n",
       "3        daniellebryan@thompson.org   \n",
       "4           billy14@long-warren.com   \n",
       "\n",
       "                                                 address         country  \\\n",
       "index                                                                      \n",
       "0                           Zimmerstr. 1/0\\n59015 Gießen         Germany   \n",
       "1      Studio 22a\\nLynne terrace\\nMcCarthymouth\\nTF0 9GH  United Kingdom   \n",
       "2                     92 Ann drive\\nJoanborough\\nSK0 6LR  United Kingdom   \n",
       "3                 19 Robinson meadow\\nNew Tracy\\nW22 2QG  United Kingdom   \n",
       "4                  3 White pass\\nHunterborough\\nNN96 4UE  United Kingdom   \n",
       "\n",
       "      country_code       phone_number   join_date  \\\n",
       "index                                               \n",
       "0               DE   +49(0) 047905356  2018-10-10   \n",
       "1               GB    (0161) 496 0674  2001-12-20   \n",
       "2               GB  +44(0)121 4960340  2016-12-16   \n",
       "3               GB    (0306) 999 0871  2004-02-23   \n",
       "4               GB      0121 496 0225  2006-09-01   \n",
       "\n",
       "                                  user_uuid  \n",
       "index                                        \n",
       "0      93caf182-e4e9-4c6e-bebb-60a1a9dcf9b8  \n",
       "1      8fe96c3a-d62d-4eb5-b313-cf12d9126a49  \n",
       "2      fc461df4-b919-48b2-909e-55c95a03fe6b  \n",
       "3      6104719f-ef14-4b09-bf04-fb0c4620acb0  \n",
       "4      9523a6d3-b2dd-4670-a51a-36aebc89f579  "
      ]
     },
     "execution_count": 6,
     "metadata": {},
     "output_type": "execute_result"
    }
   ],
   "source": [
    "# Develop a method called read_rds_table in your DataExtractor class which will extract the database table to a pandas DataFrame.\n",
    "extractor = DataExtractor()\n",
    "user_data = extractor.read_rds_table('legacy_users')\n",
    "user_data.head()"
   ]
  },
  {
   "cell_type": "code",
   "execution_count": 7,
   "metadata": {},
   "outputs": [
    {
     "name": "stdout",
     "output_type": "stream",
     "text": [
      "first_name       0\n",
      "last_name        0\n",
      "date_of_birth    0\n",
      "company          0\n",
      "email_address    0\n",
      "address          0\n",
      "country          0\n",
      "country_code     0\n",
      "phone_number     0\n",
      "join_date        0\n",
      "user_uuid        0\n",
      "dtype: int64\n"
     ]
    }
   ],
   "source": [
    "# Missing values before cleaning\n",
    "missing_values_per_column = user_data.isnull().sum()\n",
    "print(missing_values_per_column)"
   ]
  },
  {
   "cell_type": "code",
   "execution_count": 8,
   "metadata": {},
   "outputs": [
    {
     "data": {
      "text/plain": [
       "15320"
      ]
     },
     "execution_count": 8,
     "metadata": {},
     "output_type": "execute_result"
    }
   ],
   "source": [
    "user_data.shape[0]"
   ]
  },
  {
   "cell_type": "code",
   "execution_count": 9,
   "metadata": {},
   "outputs": [],
   "source": [
    "# Clean data\n",
    "cleaned_user_data = DataCleaning().clean_user_data(user_data)"
   ]
  },
  {
   "cell_type": "code",
   "execution_count": 11,
   "metadata": {},
   "outputs": [
    {
     "data": {
      "text/html": [
       "<div>\n",
       "<style scoped>\n",
       "    .dataframe tbody tr th:only-of-type {\n",
       "        vertical-align: middle;\n",
       "    }\n",
       "\n",
       "    .dataframe tbody tr th {\n",
       "        vertical-align: top;\n",
       "    }\n",
       "\n",
       "    .dataframe thead th {\n",
       "        text-align: right;\n",
       "    }\n",
       "</style>\n",
       "<table border=\"1\" class=\"dataframe\">\n",
       "  <thead>\n",
       "    <tr style=\"text-align: right;\">\n",
       "      <th></th>\n",
       "      <th>first_name</th>\n",
       "      <th>last_name</th>\n",
       "      <th>date_of_birth</th>\n",
       "      <th>company</th>\n",
       "      <th>email_address</th>\n",
       "      <th>address</th>\n",
       "      <th>country</th>\n",
       "      <th>country_code</th>\n",
       "      <th>phone_number</th>\n",
       "      <th>join_date</th>\n",
       "      <th>user_uuid</th>\n",
       "    </tr>\n",
       "    <tr>\n",
       "      <th>index</th>\n",
       "      <th></th>\n",
       "      <th></th>\n",
       "      <th></th>\n",
       "      <th></th>\n",
       "      <th></th>\n",
       "      <th></th>\n",
       "      <th></th>\n",
       "      <th></th>\n",
       "      <th></th>\n",
       "      <th></th>\n",
       "      <th></th>\n",
       "    </tr>\n",
       "  </thead>\n",
       "  <tbody>\n",
       "    <tr>\n",
       "      <th>0</th>\n",
       "      <td>Sigfried</td>\n",
       "      <td>Noack</td>\n",
       "      <td>1990-09-30</td>\n",
       "      <td>Heydrich Junitz KG</td>\n",
       "      <td>rudi79@winkler.de</td>\n",
       "      <td>Zimmerstr. 1/0\\n59015 Gießen</td>\n",
       "      <td>Germany</td>\n",
       "      <td>DE</td>\n",
       "      <td>49047905356</td>\n",
       "      <td>2018-10-10</td>\n",
       "      <td>93caf182-e4e9-4c6e-bebb-60a1a9dcf9b8</td>\n",
       "    </tr>\n",
       "    <tr>\n",
       "      <th>1</th>\n",
       "      <td>Guy</td>\n",
       "      <td>Allen</td>\n",
       "      <td>1940-12-01</td>\n",
       "      <td>Fox Ltd</td>\n",
       "      <td>rhodesclifford@henderson.com</td>\n",
       "      <td>Studio 22a\\nLynne terrace\\nMcCarthymouth\\nTF0 9GH</td>\n",
       "      <td>United Kingdom</td>\n",
       "      <td>GB</td>\n",
       "      <td>01614960674</td>\n",
       "      <td>2001-12-20</td>\n",
       "      <td>8fe96c3a-d62d-4eb5-b313-cf12d9126a49</td>\n",
       "    </tr>\n",
       "    <tr>\n",
       "      <th>2</th>\n",
       "      <td>Harry</td>\n",
       "      <td>Lawrence</td>\n",
       "      <td>1995-08-02</td>\n",
       "      <td>Johnson, Jones and Harris</td>\n",
       "      <td>glen98@bryant-marshall.co.uk</td>\n",
       "      <td>92 Ann drive\\nJoanborough\\nSK0 6LR</td>\n",
       "      <td>United Kingdom</td>\n",
       "      <td>GB</td>\n",
       "      <td>441214960340</td>\n",
       "      <td>2016-12-16</td>\n",
       "      <td>fc461df4-b919-48b2-909e-55c95a03fe6b</td>\n",
       "    </tr>\n",
       "    <tr>\n",
       "      <th>3</th>\n",
       "      <td>Darren</td>\n",
       "      <td>Hussain</td>\n",
       "      <td>1972-09-23</td>\n",
       "      <td>Wheeler LLC</td>\n",
       "      <td>daniellebryan@thompson.org</td>\n",
       "      <td>19 Robinson meadow\\nNew Tracy\\nW22 2QG</td>\n",
       "      <td>United Kingdom</td>\n",
       "      <td>GB</td>\n",
       "      <td>03069990871</td>\n",
       "      <td>2004-02-23</td>\n",
       "      <td>6104719f-ef14-4b09-bf04-fb0c4620acb0</td>\n",
       "    </tr>\n",
       "    <tr>\n",
       "      <th>4</th>\n",
       "      <td>Garry</td>\n",
       "      <td>Stone</td>\n",
       "      <td>1952-12-20</td>\n",
       "      <td>Warner Inc</td>\n",
       "      <td>billy14@long-warren.com</td>\n",
       "      <td>3 White pass\\nHunterborough\\nNN96 4UE</td>\n",
       "      <td>United Kingdom</td>\n",
       "      <td>GB</td>\n",
       "      <td>01214960225</td>\n",
       "      <td>2006-09-01</td>\n",
       "      <td>9523a6d3-b2dd-4670-a51a-36aebc89f579</td>\n",
       "    </tr>\n",
       "  </tbody>\n",
       "</table>\n",
       "</div>"
      ],
      "text/plain": [
       "      first_name last_name date_of_birth                    company  \\\n",
       "index                                                                 \n",
       "0       Sigfried     Noack    1990-09-30         Heydrich Junitz KG   \n",
       "1            Guy     Allen    1940-12-01                    Fox Ltd   \n",
       "2          Harry  Lawrence    1995-08-02  Johnson, Jones and Harris   \n",
       "3         Darren   Hussain    1972-09-23                Wheeler LLC   \n",
       "4          Garry     Stone    1952-12-20                 Warner Inc   \n",
       "\n",
       "                      email_address  \\\n",
       "index                                 \n",
       "0                 rudi79@winkler.de   \n",
       "1      rhodesclifford@henderson.com   \n",
       "2      glen98@bryant-marshall.co.uk   \n",
       "3        daniellebryan@thompson.org   \n",
       "4           billy14@long-warren.com   \n",
       "\n",
       "                                                 address         country  \\\n",
       "index                                                                      \n",
       "0                           Zimmerstr. 1/0\\n59015 Gießen         Germany   \n",
       "1      Studio 22a\\nLynne terrace\\nMcCarthymouth\\nTF0 9GH  United Kingdom   \n",
       "2                     92 Ann drive\\nJoanborough\\nSK0 6LR  United Kingdom   \n",
       "3                 19 Robinson meadow\\nNew Tracy\\nW22 2QG  United Kingdom   \n",
       "4                  3 White pass\\nHunterborough\\nNN96 4UE  United Kingdom   \n",
       "\n",
       "      country_code  phone_number   join_date  \\\n",
       "index                                          \n",
       "0               DE   49047905356  2018-10-10   \n",
       "1               GB   01614960674  2001-12-20   \n",
       "2               GB  441214960340  2016-12-16   \n",
       "3               GB   03069990871  2004-02-23   \n",
       "4               GB   01214960225  2006-09-01   \n",
       "\n",
       "                                  user_uuid  \n",
       "index                                        \n",
       "0      93caf182-e4e9-4c6e-bebb-60a1a9dcf9b8  \n",
       "1      8fe96c3a-d62d-4eb5-b313-cf12d9126a49  \n",
       "2      fc461df4-b919-48b2-909e-55c95a03fe6b  \n",
       "3      6104719f-ef14-4b09-bf04-fb0c4620acb0  \n",
       "4      9523a6d3-b2dd-4670-a51a-36aebc89f579  "
      ]
     },
     "execution_count": 11,
     "metadata": {},
     "output_type": "execute_result"
    }
   ],
   "source": [
    "cleaned_user_data.head()"
   ]
  },
  {
   "cell_type": "code",
   "execution_count": 12,
   "metadata": {},
   "outputs": [
    {
     "name": "stdout",
     "output_type": "stream",
     "text": [
      "first_name       16\n",
      "last_name        15\n",
      "date_of_birth    16\n",
      "company          16\n",
      "email_address    59\n",
      "address          16\n",
      "country          16\n",
      "country_code     16\n",
      "phone_number      0\n",
      "join_date        16\n",
      "user_uuid        16\n",
      "dtype: int64\n"
     ]
    }
   ],
   "source": [
    "# Missing values after cleaning\n",
    "missing_values_per_column = cleaned_user_data.isnull().sum()\n",
    "print(missing_values_per_column)"
   ]
  },
  {
   "cell_type": "code",
   "execution_count": 13,
   "metadata": {},
   "outputs": [
    {
     "data": {
      "text/plain": [
       "300"
      ]
     },
     "execution_count": 13,
     "metadata": {},
     "output_type": "execute_result"
    }
   ],
   "source": [
    "# Upload to SQL in dim_users table\n",
    "instance = DatabaseConnector('../../sales_data_creds.yaml')\n",
    "instance.upload_to_db(cleaned_user_data, 'dim_users')"
   ]
  }
 ],
 "metadata": {
  "kernelspec": {
   "display_name": "base",
   "language": "python",
   "name": "python3"
  },
  "language_info": {
   "codemirror_mode": {
    "name": "ipython",
    "version": 3
   },
   "file_extension": ".py",
   "mimetype": "text/x-python",
   "name": "python",
   "nbconvert_exporter": "python",
   "pygments_lexer": "ipython3",
   "version": "3.11.4"
  },
  "orig_nbformat": 4
 },
 "nbformat": 4,
 "nbformat_minor": 2
}
